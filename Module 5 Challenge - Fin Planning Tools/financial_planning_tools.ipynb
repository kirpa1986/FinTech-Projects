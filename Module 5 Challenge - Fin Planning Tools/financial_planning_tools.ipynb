{
 "cells": [
  {
   "cell_type": "markdown",
   "metadata": {},
   "source": [
    "# Financial Planning with APIs and Simulations\n",
    "\n",
    "In this Challenge, you’ll create two financial analysis tools by using a single Jupyter notebook:\n",
    "\n",
    "Part 1: A financial planner for emergencies. The members will be able to use this tool to visualize their current savings. The members can then determine if they have enough reserves for an emergency fund.\n",
    "\n",
    "Part 2: A financial planner for retirement. This tool will forecast the performance of their retirement portfolio in 30 years. To do this, the tool will make an Alpaca API call via the Alpaca SDK to get historical price data for use in Monte Carlo simulations.\n",
    "\n",
    "You’ll use the information from the Monte Carlo simulation to answer questions about the portfolio in your Jupyter notebook.\n",
    "\n"
   ]
  },
  {
   "cell_type": "code",
   "execution_count": 82,
   "metadata": {},
   "outputs": [],
   "source": [
    "# Import the required libraries and dependencies\n",
    "import os\n",
    "import requests\n",
    "import json\n",
    "import pandas as pd\n",
    "from dotenv import load_dotenv\n",
    "import alpaca_trade_api as tradeapi\n",
    "from MCForecastTools import MCSimulation\n",
    "from datetime import datetime as dt\n",
    "\n",
    "%matplotlib inline"
   ]
  },
  {
   "cell_type": "code",
   "execution_count": 83,
   "metadata": {},
   "outputs": [
    {
     "data": {
      "text/plain": [
       "True"
      ]
     },
     "execution_count": 83,
     "metadata": {},
     "output_type": "execute_result"
    }
   ],
   "source": [
    "# Load the environment variables from the .env file\n",
    "#by calling the load_dotenv function\n",
    "load_dotenv()"
   ]
  },
  {
   "cell_type": "markdown",
   "metadata": {},
   "source": [
    "## Part 1: Create a Financial Planner for Emergencies"
   ]
  },
  {
   "cell_type": "markdown",
   "metadata": {},
   "source": [
    "### Evaluate the Cryptocurrency Wallet by Using the Requests Library\n",
    "\n",
    "In this section, you’ll determine the current value of a member’s cryptocurrency wallet. You’ll collect the current prices for the Bitcoin and Ethereum cryptocurrencies by using the Python Requests library. For the prototype, you’ll assume that the member holds the 1.2 Bitcoins (BTC) and 5.3 Ethereum coins (ETH). To do all this, complete the following steps:\n",
    "\n",
    "1. Create a variable named `monthly_income`, and set its value to `12000`.\n",
    "\n",
    "2. Use the Requests library to get the current price (in US dollars) of Bitcoin (BTC) and Ethereum (ETH) by using the API endpoints that the starter code supplies.\n",
    "\n",
    "3. Navigate the JSON response object to access the current price of each coin, and store each in a variable.\n",
    "\n",
    "    > **Hint** Note the specific identifier for each cryptocurrency in the API JSON response. The Bitcoin identifier is `1`, and the Ethereum identifier is `1027`.\n",
    "\n",
    "4. Calculate the value, in US dollars, of the current amount of each cryptocurrency and of the entire cryptocurrency wallet.\n",
    "\n"
   ]
  },
  {
   "cell_type": "code",
   "execution_count": 3,
   "metadata": {},
   "outputs": [],
   "source": [
    "# The current number of coins for each cryptocurrency asset held in the portfolio.\n",
    "btc_coins = 1.2\n",
    "eth_coins = 5.3"
   ]
  },
  {
   "cell_type": "markdown",
   "metadata": {},
   "source": [
    "#### Step 1: Create a variable named `monthly_income`, and set its value to `12000`."
   ]
  },
  {
   "cell_type": "code",
   "execution_count": 62,
   "metadata": {},
   "outputs": [],
   "source": [
    "# The monthly amount for the member's household income\n",
    "monthly_income = 12000"
   ]
  },
  {
   "cell_type": "markdown",
   "metadata": {},
   "source": [
    "#### Review the endpoint URLs for the API calls to Free Crypto API in order to get the current pricing information for both BTC and ETH."
   ]
  },
  {
   "cell_type": "code",
   "execution_count": 5,
   "metadata": {},
   "outputs": [],
   "source": [
    "# The Free Crypto API Call endpoint URLs for the held cryptocurrency assets\n",
    "btc_url = \"https://api.alternative.me/v2/ticker/Bitcoin/?convert=USD\"\n",
    "eth_url = \"https://api.alternative.me/v2/ticker/Ethereum/?convert=USD\""
   ]
  },
  {
   "cell_type": "markdown",
   "metadata": {},
   "source": [
    "#### Step 2. Use the Requests library to get the current price (in US dollars) of Bitcoin (BTC) and Ethereum (ETH) by using the API endpoints that the starter code supplied."
   ]
  },
  {
   "cell_type": "code",
   "execution_count": 7,
   "metadata": {},
   "outputs": [
    {
     "name": "stdout",
     "output_type": "stream",
     "text": [
      "{\n",
      "    \"data\": {\n",
      "        \"1\": {\n",
      "            \"circulating_supply\": 18918318,\n",
      "            \"id\": 1,\n",
      "            \"last_updated\": 1641169865,\n",
      "            \"max_supply\": 21000000,\n",
      "            \"name\": \"Bitcoin\",\n",
      "            \"quotes\": {\n",
      "                \"USD\": {\n",
      "                    \"market_cap\": 894158742053,\n",
      "                    \"percent_change_1h\": -0.772065198018978,\n",
      "                    \"percent_change_24h\": -0.782015142663528,\n",
      "                    \"percent_change_7d\": -7.16640200413139,\n",
      "                    \"percentage_change_1h\": -0.772065198018978,\n",
      "                    \"percentage_change_24h\": -0.782015142663528,\n",
      "                    \"percentage_change_7d\": -7.16640200413139,\n",
      "                    \"price\": 47209.0,\n",
      "                    \"volume_24h\": 33319557589\n",
      "                }\n",
      "            },\n",
      "            \"rank\": 1,\n",
      "            \"symbol\": \"BTC\",\n",
      "            \"total_supply\": 18918318,\n",
      "            \"website_slug\": \"bitcoin\"\n",
      "        }\n",
      "    },\n",
      "    \"metadata\": {\n",
      "        \"error\": null,\n",
      "        \"num_cryptocurrencies\": 3105,\n",
      "        \"timestamp\": 1641169865\n",
      "    }\n",
      "}\n"
     ]
    }
   ],
   "source": [
    "# Using the Python requests library, make an API call to access the current price of BTC\n",
    "btc_response = requests.get(btc_url).json()\n",
    "\n",
    "# Use the json.dumps function to review the response data from the API call\n",
    "# Use the indent and sort_keys parameters to make the response object readable\n",
    "print(json.dumps(btc_response, indent=4, sort_keys=True))"
   ]
  },
  {
   "cell_type": "code",
   "execution_count": 8,
   "metadata": {},
   "outputs": [
    {
     "name": "stdout",
     "output_type": "stream",
     "text": [
      "{\n",
      "    \"data\": {\n",
      "        \"1027\": {\n",
      "            \"circulating_supply\": 119000027,\n",
      "            \"id\": 1027,\n",
      "            \"last_updated\": 1641169953,\n",
      "            \"max_supply\": 0,\n",
      "            \"name\": \"Ethereum\",\n",
      "            \"quotes\": {\n",
      "                \"USD\": {\n",
      "                    \"market_cap\": 454724795194,\n",
      "                    \"percent_change_1h\": -0.952267558401568,\n",
      "                    \"percent_change_24h\": 1.31207857340581,\n",
      "                    \"percent_change_7d\": -6.3953418556964,\n",
      "                    \"percentage_change_1h\": -0.952267558401568,\n",
      "                    \"percentage_change_24h\": 1.31207857340581,\n",
      "                    \"percentage_change_7d\": -6.3953418556964,\n",
      "                    \"price\": 3814.42,\n",
      "                    \"volume_24h\": 9906254681\n",
      "                }\n",
      "            },\n",
      "            \"rank\": 2,\n",
      "            \"symbol\": \"ETH\",\n",
      "            \"total_supply\": 119000027,\n",
      "            \"website_slug\": \"ethereum\"\n",
      "        }\n",
      "    },\n",
      "    \"metadata\": {\n",
      "        \"error\": null,\n",
      "        \"num_cryptocurrencies\": 3105,\n",
      "        \"timestamp\": 1641169953\n",
      "    }\n",
      "}\n"
     ]
    }
   ],
   "source": [
    "# Using the Python requests library, make an API call to access the current price ETH\n",
    "eth_response = requests.get(eth_url).json()\n",
    "\n",
    "# Use the json.dumps function to review the response data from the API call\n",
    "# Use the indent and sort_keys parameters to make the response object readable\n",
    "# YOUR CODE HERE\n",
    "print(json.dumps(eth_response, indent=4, sort_keys=True))"
   ]
  },
  {
   "cell_type": "markdown",
   "metadata": {},
   "source": [
    "#### Step 3: Navigate the JSON response object to access the current price of each coin, and store each in a variable."
   ]
  },
  {
   "cell_type": "code",
   "execution_count": 14,
   "metadata": {},
   "outputs": [
    {
     "data": {
      "text/plain": [
       "47209.0"
      ]
     },
     "execution_count": 14,
     "metadata": {},
     "output_type": "execute_result"
    }
   ],
   "source": [
    "# Navigate the BTC response object to access the current price of BTC\n",
    "btc_price = btc_response['data']['1']['quotes']['USD']['price']\n",
    "\n",
    "# Print the current price of BTC\n",
    "# YOUR CODE HERE\n",
    "btc_price"
   ]
  },
  {
   "cell_type": "code",
   "execution_count": 17,
   "metadata": {},
   "outputs": [
    {
     "data": {
      "text/plain": [
       "3814.42"
      ]
     },
     "execution_count": 17,
     "metadata": {},
     "output_type": "execute_result"
    }
   ],
   "source": [
    "# Navigate the BTC response object to access the current price of ETH\n",
    "eth_price = eth_response['data']['1027']['quotes']['USD']['price']\n",
    "\n",
    "# Print the current price of ETH\n",
    "# YOUR CODE HERE\n",
    "eth_price"
   ]
  },
  {
   "cell_type": "markdown",
   "metadata": {},
   "source": [
    "### Step 4: Calculate the value, in US dollars, of the current amount of each cryptocurrency and of the entire cryptocurrency wallet."
   ]
  },
  {
   "cell_type": "code",
   "execution_count": 18,
   "metadata": {},
   "outputs": [
    {
     "name": "stdout",
     "output_type": "stream",
     "text": [
      "The current value of 1.2 BTC is $ 56650.80\n"
     ]
    }
   ],
   "source": [
    "# Compute the current value of the BTC holding \n",
    "btc_value = btc_price * btc_coins\n",
    "\n",
    "# Print current value of your holding in BTC\n",
    "print(f'The current value of {btc_coins} BTC is ${btc_value: .2f}')\n"
   ]
  },
  {
   "cell_type": "code",
   "execution_count": 85,
   "metadata": {},
   "outputs": [
    {
     "name": "stdout",
     "output_type": "stream",
     "text": [
      "The current value of 5.3 ETH is $ 20216.43\n"
     ]
    }
   ],
   "source": [
    "# Compute the current value of the ETH holding \n",
    "eth_value = eth_price * eth_coins\n",
    "\n",
    "# Print current value of your holding in ETH\n",
    "print(f'The current value of {eth_coins} ETH is ${eth_value: .2f}')\n"
   ]
  },
  {
   "cell_type": "code",
   "execution_count": 21,
   "metadata": {},
   "outputs": [
    {
     "name": "stdout",
     "output_type": "stream",
     "text": [
      "The current cryptocurrency balance is $ 76867.23\n"
     ]
    }
   ],
   "source": [
    "# Compute the total value of the cryptocurrency wallet\n",
    "# Add the value of the BTC holding to the value of the ETH holding\n",
    "total_crypto_wallet = btc_value + eth_value\n",
    "\n",
    "# Print current cryptocurrency wallet balance\n",
    "print(f'The current cryptocurrency wallet balance is ${total_crypto_wallet: .2f}')\n"
   ]
  },
  {
   "cell_type": "markdown",
   "metadata": {},
   "source": [
    "### Evaluate the Stock and Bond Holdings by Using the Alpaca SDK\n",
    "\n",
    "In this section, you’ll determine the current value of a member’s stock and bond holdings. You’ll make an API call to Alpaca via the Alpaca SDK to get the current closing prices of the SPDR S&P 500 ETF Trust (ticker: SPY) and of the iShares Core US Aggregate Bond ETF (ticker: AGG). For the prototype, assume that the member holds 110 shares of SPY, which represents the stock portion of their portfolio, and 200 shares of AGG, which represents the bond portion. To do all this, complete the following steps:\n",
    "\n",
    "1. In the `Starter_Code` folder, create an environment file (`.env`) to store the values of your Alpaca API key and Alpaca secret key.\n",
    "\n",
    "2. Set the variables for the Alpaca API and secret keys. Using the Alpaca SDK, create the Alpaca `tradeapi.REST` object. In this object, include the parameters for the Alpaca API key, the secret key, and the version number.\n",
    "\n",
    "3. Set the following parameters for the Alpaca API call:\n",
    "\n",
    "    - `tickers`: Use the tickers for the member’s stock and bond holdings.\n",
    "\n",
    "    - `timeframe`: Use a time frame of one day.\n",
    "\n",
    "    - `start_date` and `end_date`: Use the same date for these parameters, and format them with the date of the previous weekday (or `2020-08-07`). This is because you want the one closing price for the most-recent trading day.\n",
    "\n",
    "4. Get the current closing prices for `SPY` and `AGG` by using the Alpaca `get_barset` function. Format the response as a Pandas DataFrame by including the `df` property at the end of the `get_barset` function.\n",
    "\n",
    "5. Navigating the Alpaca response DataFrame, select the `SPY` and `AGG` closing prices, and store them as variables.\n",
    "\n",
    "6. Calculate the value, in US dollars, of the current amount of shares in each of the stock and bond portions of the portfolio, and print the results.\n"
   ]
  },
  {
   "cell_type": "markdown",
   "metadata": {},
   "source": [
    "#### Review the total number of shares held in both (SPY) and (AGG)."
   ]
  },
  {
   "cell_type": "code",
   "execution_count": 49,
   "metadata": {},
   "outputs": [],
   "source": [
    "# Current amount of shares held in both the stock (SPY) and bond (AGG) portion of the portfolio.\n",
    "spy_shares = 110\n",
    "agg_shares = 200\n"
   ]
  },
  {
   "cell_type": "markdown",
   "metadata": {},
   "source": [
    "#### Step 1: In the `Starter_Code` folder, create an environment file (`.env`) to store the values of your Alpaca API key and Alpaca secret key."
   ]
  },
  {
   "cell_type": "markdown",
   "metadata": {},
   "source": [
    "#### Step 2: Set the variables for the Alpaca API and secret keys. Using the Alpaca SDK, create the Alpaca `tradeapi.REST` object. In this object, include the parameters for the Alpaca API key, the secret key, and the version number."
   ]
  },
  {
   "cell_type": "code",
   "execution_count": 24,
   "metadata": {},
   "outputs": [],
   "source": [
    "# Set the variables for the Alpaca API and secret keys\n",
    "alpaca_api_key = os.getenv('ALPACA_KEY_ID')\n",
    "alpaca_secret_key = os.getenv('ALPACA_SECRET_KEY')\n",
    "\n",
    "#type(alpaca_api_key), type(alpaca_secret_key)\n",
    "\n",
    "# Create the Alpaca tradeapi.REST object\n",
    "alpaca = tradeapi.REST(key_id=alpaca_api_key, secret_key=alpaca_secret_key, api_version='v2')\n"
   ]
  },
  {
   "cell_type": "markdown",
   "metadata": {},
   "source": [
    "#### Step 3: Set the following parameters for the Alpaca API call:\n",
    "\n",
    "- `tickers`: Use the tickers for the member’s stock and bond holdings.\n",
    "\n",
    "- `timeframe`: Use a time frame of one day.\n",
    "\n",
    "- `start_date` and `end_date`: Use the same date for these parameters, and format them with the date of the previous weekday (or `2020-08-07`). This is because you want the one closing price for the most-recent trading day.\n"
   ]
  },
  {
   "cell_type": "code",
   "execution_count": 43,
   "metadata": {},
   "outputs": [],
   "source": [
    "# Set the tickers for both the bond and stock portion of the portfolio\n",
    "tickers = ['SPY', 'AGG']\n",
    "\n",
    "# Set timeframe to 1D \n",
    "timeframe = '1D'\n",
    "\n",
    "# Format current date as ISO format\n",
    "# Set both the start and end date at the date of your prior weekday \n",
    "# This will give you the closing price of the previous trading day\n",
    "# Alternatively you can use a start and end date of 2020-08-07\n",
    "\n",
    "#Import BDay class from Pandas to identify the last business day\n",
    "from pandas.tseries.offsets import BDay\n",
    "\n",
    "start_date = (pd.Timestamp(dt.today(), tz='America/New_York') - BDay(1)).isoformat()\n",
    "\n",
    "end_date = start_date"
   ]
  },
  {
   "cell_type": "markdown",
   "metadata": {},
   "source": [
    "#### Step 4: Get the current closing prices for `SPY` and `AGG` by using the Alpaca `get_barset` function. Format the response as a Pandas DataFrame by including the `df` property at the end of the `get_barset` function."
   ]
  },
  {
   "cell_type": "code",
   "execution_count": 44,
   "metadata": {},
   "outputs": [
    {
     "data": {
      "text/html": [
       "<div>\n",
       "<style scoped>\n",
       "    .dataframe tbody tr th:only-of-type {\n",
       "        vertical-align: middle;\n",
       "    }\n",
       "\n",
       "    .dataframe tbody tr th {\n",
       "        vertical-align: top;\n",
       "    }\n",
       "\n",
       "    .dataframe thead tr th {\n",
       "        text-align: left;\n",
       "    }\n",
       "\n",
       "    .dataframe thead tr:last-of-type th {\n",
       "        text-align: right;\n",
       "    }\n",
       "</style>\n",
       "<table border=\"1\" class=\"dataframe\">\n",
       "  <thead>\n",
       "    <tr>\n",
       "      <th></th>\n",
       "      <th colspan=\"5\" halign=\"left\">AGG</th>\n",
       "      <th colspan=\"5\" halign=\"left\">SPY</th>\n",
       "    </tr>\n",
       "    <tr>\n",
       "      <th></th>\n",
       "      <th>open</th>\n",
       "      <th>high</th>\n",
       "      <th>low</th>\n",
       "      <th>close</th>\n",
       "      <th>volume</th>\n",
       "      <th>open</th>\n",
       "      <th>high</th>\n",
       "      <th>low</th>\n",
       "      <th>close</th>\n",
       "      <th>volume</th>\n",
       "    </tr>\n",
       "    <tr>\n",
       "      <th>time</th>\n",
       "      <th></th>\n",
       "      <th></th>\n",
       "      <th></th>\n",
       "      <th></th>\n",
       "      <th></th>\n",
       "      <th></th>\n",
       "      <th></th>\n",
       "      <th></th>\n",
       "      <th></th>\n",
       "      <th></th>\n",
       "    </tr>\n",
       "  </thead>\n",
       "  <tbody>\n",
       "    <tr>\n",
       "      <th>2021-12-31 00:00:00-05:00</th>\n",
       "      <td>114.15</td>\n",
       "      <td>114.31</td>\n",
       "      <td>114.06</td>\n",
       "      <td>114.09</td>\n",
       "      <td>6557778</td>\n",
       "      <td>475.64</td>\n",
       "      <td>476.86</td>\n",
       "      <td>474.67</td>\n",
       "      <td>474.89</td>\n",
       "      <td>51212452</td>\n",
       "    </tr>\n",
       "  </tbody>\n",
       "</table>\n",
       "</div>"
      ],
      "text/plain": [
       "                              AGG                                      SPY  \\\n",
       "                             open    high     low   close   volume    open   \n",
       "time                                                                         \n",
       "2021-12-31 00:00:00-05:00  114.15  114.31  114.06  114.09  6557778  475.64   \n",
       "\n",
       "                                                             \n",
       "                             high     low   close    volume  \n",
       "time                                                         \n",
       "2021-12-31 00:00:00-05:00  476.86  474.67  474.89  51212452  "
      ]
     },
     "execution_count": 44,
     "metadata": {},
     "output_type": "execute_result"
    }
   ],
   "source": [
    "# Use the Alpaca get_barset function to get current closing prices the portfolio\n",
    "# Be sure to set the `df` property after the function to format the response object as a DataFrame\n",
    "prices_df = alpaca.get_barset(symbols=tickers, timeframe=timeframe, start=start_date, end=end_date).df\n",
    "\n",
    "# Review the first 5 rows of the Alpaca DataFrame\n",
    "prices_df.head()\n"
   ]
  },
  {
   "cell_type": "markdown",
   "metadata": {},
   "source": [
    "#### Step 5: Navigating the Alpaca response DataFrame, select the `SPY` and `AGG` closing prices, and store them as variables."
   ]
  },
  {
   "cell_type": "code",
   "execution_count": 47,
   "metadata": {},
   "outputs": [
    {
     "data": {
      "text/plain": [
       "114.09"
      ]
     },
     "execution_count": 47,
     "metadata": {},
     "output_type": "execute_result"
    }
   ],
   "source": [
    "# Access the closing price for AGG from the Alpaca DataFrame\n",
    "# Converting the value to a floating point number\n",
    "agg_close_price = float(prices_df['AGG']['close'])\n",
    "\n",
    "# Print the AGG closing price\n",
    "\n",
    "agg_close_price"
   ]
  },
  {
   "cell_type": "code",
   "execution_count": 48,
   "metadata": {},
   "outputs": [
    {
     "data": {
      "text/plain": [
       "474.89"
      ]
     },
     "execution_count": 48,
     "metadata": {},
     "output_type": "execute_result"
    }
   ],
   "source": [
    "# Access the closing price for SPY from the Alpaca DataFrame\n",
    "# Converting the value to a floating point number\n",
    "spy_close_price = float(prices_df['SPY']['close'])\n",
    "\n",
    "# Print the SPY closing price\n",
    "spy_close_price\n"
   ]
  },
  {
   "cell_type": "markdown",
   "metadata": {},
   "source": [
    "#### Step 6: Calculate the value, in US dollars, of the current amount of shares in each of the stock and bond portions of the portfolio, and print the results."
   ]
  },
  {
   "cell_type": "code",
   "execution_count": 51,
   "metadata": {},
   "outputs": [
    {
     "name": "stdout",
     "output_type": "stream",
     "text": [
      "The current value of bond portfolio is $ 22818.00\n"
     ]
    }
   ],
   "source": [
    "# Calculate the current value of the bond portion of the portfolio\n",
    "agg_value = agg_shares * agg_close_price\n",
    "\n",
    "# Print the current value of the bond portfolio\n",
    "print(f'The current value of bond portfolio is ${agg_value: .2f}')\n"
   ]
  },
  {
   "cell_type": "code",
   "execution_count": 52,
   "metadata": {},
   "outputs": [
    {
     "name": "stdout",
     "output_type": "stream",
     "text": [
      "The current value of bond portfolio is $ 52237.90\n"
     ]
    }
   ],
   "source": [
    "# Calculate the current value of the stock portion of the portfolio\n",
    "spy_value = spy_shares * spy_close_price\n",
    "\n",
    "# Print the current value of the stock portfolio\n",
    "print(f'The current value of bond portfolio is ${spy_value: .2f}')\n"
   ]
  },
  {
   "cell_type": "code",
   "execution_count": 54,
   "metadata": {},
   "outputs": [
    {
     "name": "stdout",
     "output_type": "stream",
     "text": [
      "The current balance of stocks and bonds in the portfolio is $ 75055.90\n"
     ]
    }
   ],
   "source": [
    "# Calculate the total value of the stock and bond portion of the portfolio\n",
    "total_stocks_bonds = agg_value + spy_value\n",
    "\n",
    "# Print the current balance of the stock and bond portion of the portfolio\n",
    "print(f'The current balance of stocks and bonds in the portfolio is ${total_stocks_bonds: .2f}')\n"
   ]
  },
  {
   "cell_type": "code",
   "execution_count": 55,
   "metadata": {},
   "outputs": [
    {
     "name": "stdout",
     "output_type": "stream",
     "text": [
      "The total value of entire portfolio (crypto, stocks. bonds) is $ 151923.13\n"
     ]
    }
   ],
   "source": [
    "# Calculate the total value of the member's entire savings portfolio\n",
    "# Add the value of the cryptocurrency walled to the value of the total stocks and bonds\n",
    "total_portfolio = total_stocks_bonds + total_crypto_wallet\n",
    "\n",
    "# Print the total value of the member's entire savings portfolio\n",
    "print(f'The total value of entire portfolio (crypto, stocks. bonds) is ${total_portfolio: .2f}')\n"
   ]
  },
  {
   "cell_type": "markdown",
   "metadata": {},
   "source": [
    "### Evaluate the Emergency Fund\n",
    "\n",
    "In this section, you’ll use the valuations for the cryptocurrency wallet and for the stock and bond portions of the portfolio to determine if the credit union member has enough savings to build an emergency fund into their financial plan. To do this, complete the following steps:\n",
    "\n",
    "1. Create a Python list named `savings_data` that has two elements. The first element contains the total value of the cryptocurrency wallet. The second element contains the total value of the stock and bond portions of the portfolio.\n",
    "\n",
    "2. Use the `savings_data` list to create a Pandas DataFrame named `savings_df`, and then display this DataFrame. The function to create the DataFrame should take the following three parameters:\n",
    "\n",
    "    - `savings_data`: Use the list that you just created.\n",
    "\n",
    "    - `columns`: Set this parameter equal to a Python list with a single value called `amount`.\n",
    "\n",
    "    - `index`: Set this parameter equal to a Python list with the values of `crypto` and `stock/bond`.\n",
    "\n",
    "3. Use the `savings_df` DataFrame to plot a pie chart that visualizes the composition of the member’s portfolio. The y-axis of the pie chart uses `amount`. Be sure to add a title.\n",
    "\n",
    "4. Using Python, determine if the current portfolio has enough to create an emergency fund as part of the member’s financial plan. Ideally, an emergency fund should equal to three times the member’s monthly income. To do this, implement the following steps:\n",
    "\n",
    "    1. Create a variable named `emergency_fund_value`, and set it equal to three times the value of the member’s `monthly_income` of $12000. (You set this earlier in Part 1).\n",
    "\n",
    "    2. Create a series of three if statements to determine if the member’s total portfolio is large enough to fund the emergency portfolio:\n",
    "\n",
    "        1. If the total portfolio value is greater than the emergency fund value, display a message congratulating the member for having enough money in this fund.\n",
    "\n",
    "        2. Else if the total portfolio value is equal to the emergency fund value, display a message congratulating the member on reaching this important financial goal.\n",
    "\n",
    "        3. Else the total portfolio is less than the emergency fund value, so display a message showing how many dollars away the member is from reaching the goal. (Subtract the total portfolio value from the emergency fund value.)\n"
   ]
  },
  {
   "cell_type": "markdown",
   "metadata": {},
   "source": [
    "#### Step 1: Create a Python list named `savings_data` that has two elements. The first element contains the total value of the cryptocurrency wallet. The second element contains the total value of the stock and bond portions of the portfolio."
   ]
  },
  {
   "cell_type": "code",
   "execution_count": 56,
   "metadata": {},
   "outputs": [
    {
     "data": {
      "text/plain": [
       "[76867.226, 75055.9]"
      ]
     },
     "execution_count": 56,
     "metadata": {},
     "output_type": "execute_result"
    }
   ],
   "source": [
    "# Consolidate financial assets data into a Python list\n",
    "savings_data = [total_crypto_wallet, total_stocks_bonds]\n",
    "\n",
    "# Review the Python list savings_data\n",
    "savings_data\n"
   ]
  },
  {
   "cell_type": "markdown",
   "metadata": {},
   "source": [
    "#### Step 2: Use the `savings_data` list to create a Pandas DataFrame named `savings_df`, and then display this DataFrame. The function to create the DataFrame should take the following three parameters:\n",
    "\n",
    "- `savings_data`: Use the list that you just created.\n",
    "\n",
    "- `columns`: Set this parameter equal to a Python list with a single value called `amount`.\n",
    "\n",
    "- `index`: Set this parameter equal to a Python list with the values of `crypto` and `stock/bond`.\n"
   ]
  },
  {
   "cell_type": "code",
   "execution_count": 57,
   "metadata": {},
   "outputs": [
    {
     "data": {
      "text/html": [
       "<div>\n",
       "<style scoped>\n",
       "    .dataframe tbody tr th:only-of-type {\n",
       "        vertical-align: middle;\n",
       "    }\n",
       "\n",
       "    .dataframe tbody tr th {\n",
       "        vertical-align: top;\n",
       "    }\n",
       "\n",
       "    .dataframe thead th {\n",
       "        text-align: right;\n",
       "    }\n",
       "</style>\n",
       "<table border=\"1\" class=\"dataframe\">\n",
       "  <thead>\n",
       "    <tr style=\"text-align: right;\">\n",
       "      <th></th>\n",
       "      <th>amount</th>\n",
       "    </tr>\n",
       "  </thead>\n",
       "  <tbody>\n",
       "    <tr>\n",
       "      <th>crypto</th>\n",
       "      <td>76867.226</td>\n",
       "    </tr>\n",
       "    <tr>\n",
       "      <th>stock/bond</th>\n",
       "      <td>75055.900</td>\n",
       "    </tr>\n",
       "  </tbody>\n",
       "</table>\n",
       "</div>"
      ],
      "text/plain": [
       "               amount\n",
       "crypto      76867.226\n",
       "stock/bond  75055.900"
      ]
     },
     "execution_count": 57,
     "metadata": {},
     "output_type": "execute_result"
    }
   ],
   "source": [
    "# Create a Pandas DataFrame called savings_df \n",
    "savings_df = pd.DataFrame(savings_data, columns = ['amount'], index = ['crypto','stock/bond'])\n",
    "\n",
    "# Display the savings_df DataFrame\n",
    "savings_df\n"
   ]
  },
  {
   "cell_type": "markdown",
   "metadata": {},
   "source": [
    "#### Step 3: Use the `savings_df` DataFrame to plot a pie chart that visualizes the composition of the member’s portfolio. The y-axis of the pie chart uses `amount`. Be sure to add a title."
   ]
  },
  {
   "cell_type": "code",
   "execution_count": 61,
   "metadata": {},
   "outputs": [
    {
     "data": {
      "text/plain": [
       "<AxesSubplot:title={'center':'Total value of the portfolio: crypto and stocks/bonds'}, ylabel='amount'>"
      ]
     },
     "execution_count": 61,
     "metadata": {},
     "output_type": "execute_result"
    },
    {
     "data": {
      "image/png": "[encoded data removed]",
      "text/plain": [
       "<Figure size 432x432 with 1 Axes>"
      ]
     },
     "metadata": {},
     "output_type": "display_data"
    }
   ],
   "source": [
    "# Plot the total value of the member's portfolio (crypto and stock/bond) in a pie chart\n",
    "savings_df.plot.pie(y='amount', title = 'Total value of the portfolio: crypto and stocks/bonds', figsize = (6,6))\n"
   ]
  },
  {
   "cell_type": "markdown",
   "metadata": {},
   "source": [
    "#### Step 4: Using Python, determine if the current portfolio has enough to create an emergency fund as part of the member’s financial plan. Ideally, an emergency fund should equal to three times the member’s monthly income. To do this, implement the following steps:\n",
    "\n",
    "Step 1. Create a variable named `emergency_fund_value`, and set it equal to three times the value of the member’s `monthly_income` of 12000. (You set this earlier in Part 1).\n",
    "\n",
    "Step 2. Create a series of three if statements to determine if the member’s total portfolio is large enough to fund the emergency portfolio:\n",
    "\n",
    "* If the total portfolio value is greater than the emergency fund value, display a message congratulating the member for having enough money in this fund.\n",
    "\n",
    "* Else if the total portfolio value is equal to the emergency fund value, display a message congratulating the member on reaching this important financial goal.\n",
    "\n",
    "* Else the total portfolio is less than the emergency fund value, so display a message showing how many dollars away the member is from reaching the goal. (Subtract the total portfolio value from the emergency fund value.)\n"
   ]
  },
  {
   "cell_type": "markdown",
   "metadata": {},
   "source": [
    "##### Step 4-1: Create a variable named `emergency_fund_value`, and set it equal to three times the value of the member’s `monthly_income` of 12000. (You set this earlier in Part 1)."
   ]
  },
  {
   "cell_type": "code",
   "execution_count": 63,
   "metadata": {},
   "outputs": [],
   "source": [
    "# Create a variable named emergency_fund_value\n",
    "emergency_fund_value = 3 * monthly_income\n"
   ]
  },
  {
   "cell_type": "markdown",
   "metadata": {},
   "source": [
    "##### Step 4-2: Create a series of three if statements to determine if the member’s total portfolio is large enough to fund the emergency portfolio:\n",
    "\n",
    "* If the total portfolio value is greater than the emergency fund value, display a message congratulating the member for having enough money in this fund.\n",
    "\n",
    "* Else if the total portfolio value is equal to the emergency fund value, display a message congratulating the member on reaching this important financial goal.\n",
    "\n",
    "* Else the total portfolio is less than the emergency fund value, so display a message showing how many dollars away the member is from reaching the goal. (Subtract the total portfolio value from the emergency fund value.)"
   ]
  },
  {
   "cell_type": "code",
   "execution_count": 69,
   "metadata": {},
   "outputs": [
    {
     "name": "stdout",
     "output_type": "stream",
     "text": [
      "Congrats! You have enough money in your emergency fund. Your total portfolio value is 12.7 times your monthly income\n"
     ]
    }
   ],
   "source": [
    "# Evaluate the possibility of creating an emergency fund with 3 conditions:\n",
    "if total_portfolio > emergency_fund_value:\n",
    "    print(f'Congrats! You have enough money in your emergency fund. Your total portfolio value is{total_portfolio / monthly_income: .1f} times your monthly income')\n",
    "elif total_portfolio == emergency_fund_value:\n",
    "    print('Congrats with reaching your financial goals - now you have enough money in your emergency fund')\n",
    "else:\n",
    "    print(f'Your total portfolio value is (${total_portfolio: .2f}). You are ${emergency_fund_value - total_portfolio: .2f} away form reaching the goal (${emergency_fund_value: .2f})')\n"
   ]
  },
  {
   "cell_type": "markdown",
   "metadata": {},
   "source": [
    "## Part 2: Create a Financial Planner for Retirement"
   ]
  },
  {
   "cell_type": "markdown",
   "metadata": {},
   "source": [
    "### Create the Monte Carlo Simulation\n",
    "\n",
    "In this section, you’ll use the MCForecastTools library to create a Monte Carlo simulation for the member’s savings portfolio. To do this, complete the following steps:\n",
    "\n",
    "1. Make an API call via the Alpaca SDK to get 3 years of historical closing prices for a traditional 60/40 portfolio split: 60% stocks (SPY) and 40% bonds (AGG).\n",
    "\n",
    "2. Run a Monte Carlo simulation of 500 samples and 30 years for the 60/40 portfolio, and then plot the results.The following image shows the overlay line plot resulting from a simulation with these characteristics. However, because a random number generator is used to run each live Monte Carlo simulation, your image will differ slightly from this exact image:\n",
    "\n",
    "![A screenshot depicts the resulting plot.](Images/5-4-monte-carlo-line-plot.png)\n",
    "\n",
    "3. Plot the probability distribution of the Monte Carlo simulation. Plot the probability distribution of the Monte Carlo simulation. The following image shows the histogram plot resulting from a simulation with these characteristics. However, because a random number generator is used to run each live Monte Carlo simulation, your image will differ slightly from this exact image:\n",
    "\n",
    "![A screenshot depicts the histogram plot.](Images/5-4-monte-carlo-histogram.png)\n",
    "\n",
    "4. Generate the summary statistics for the Monte Carlo simulation.\n",
    "\n"
   ]
  },
  {
   "cell_type": "markdown",
   "metadata": {},
   "source": [
    "#### Step 1: Make an API call via the Alpaca SDK to get 3 years of historical closing prices for a traditional 60/40 portfolio split: 60% stocks (SPY) and 40% bonds (AGG)."
   ]
  },
  {
   "cell_type": "code",
   "execution_count": 84,
   "metadata": {},
   "outputs": [],
   "source": [
    "# Set start and end dates of 3 years back from your current date\n",
    "# Alternatively, you can use an end date of 2020-08-07 and work 3 years back from that date\n",
    "\n",
    "# Using BDay class (Business Day) calculate the last business day.\n",
    "# Then using Panda's Timedelta class calculate the start date specifying the number of days\n",
    "last_business_day = (pd.Timestamp(dt.today(), tz='America/New_York') - BDay(1))\n",
    "start_date = last_business_day - pd.Timedelta(days = 365 * 3)\n",
    "\n",
    "# Set number of rows to 1000 to retrieve the maximum amount of rows\n",
    "limit_rows = 1000"
   ]
  },
  {
   "cell_type": "code",
   "execution_count": 122,
   "metadata": {},
   "outputs": [
    {
     "data": {
      "text/html": [
       "<div>\n",
       "<style scoped>\n",
       "    .dataframe tbody tr th:only-of-type {\n",
       "        vertical-align: middle;\n",
       "    }\n",
       "\n",
       "    .dataframe tbody tr th {\n",
       "        vertical-align: top;\n",
       "    }\n",
       "\n",
       "    .dataframe thead tr th {\n",
       "        text-align: left;\n",
       "    }\n",
       "\n",
       "    .dataframe thead tr:last-of-type th {\n",
       "        text-align: right;\n",
       "    }\n",
       "</style>\n",
       "<table border=\"1\" class=\"dataframe\">\n",
       "  <thead>\n",
       "    <tr>\n",
       "      <th></th>\n",
       "      <th colspan=\"5\" halign=\"left\">AGG</th>\n",
       "      <th colspan=\"5\" halign=\"left\">SPY</th>\n",
       "    </tr>\n",
       "    <tr>\n",
       "      <th></th>\n",
       "      <th>open</th>\n",
       "      <th>high</th>\n",
       "      <th>low</th>\n",
       "      <th>close</th>\n",
       "      <th>volume</th>\n",
       "      <th>open</th>\n",
       "      <th>high</th>\n",
       "      <th>low</th>\n",
       "      <th>close</th>\n",
       "      <th>volume</th>\n",
       "    </tr>\n",
       "    <tr>\n",
       "      <th>time</th>\n",
       "      <th></th>\n",
       "      <th></th>\n",
       "      <th></th>\n",
       "      <th></th>\n",
       "      <th></th>\n",
       "      <th></th>\n",
       "      <th></th>\n",
       "      <th></th>\n",
       "      <th></th>\n",
       "      <th></th>\n",
       "    </tr>\n",
       "  </thead>\n",
       "  <tbody>\n",
       "    <tr>\n",
       "      <th>2018-01-16 00:00:00-05:00</th>\n",
       "      <td>108.87</td>\n",
       "      <td>108.9800</td>\n",
       "      <td>108.715</td>\n",
       "      <td>108.76</td>\n",
       "      <td>6011248</td>\n",
       "      <td>279.35</td>\n",
       "      <td>280.09</td>\n",
       "      <td>276.18</td>\n",
       "      <td>276.96</td>\n",
       "      <td>70240852</td>\n",
       "    </tr>\n",
       "    <tr>\n",
       "      <th>2018-01-17 00:00:00-05:00</th>\n",
       "      <td>108.73</td>\n",
       "      <td>108.8390</td>\n",
       "      <td>108.620</td>\n",
       "      <td>108.65</td>\n",
       "      <td>2880481</td>\n",
       "      <td>278.04</td>\n",
       "      <td>280.05</td>\n",
       "      <td>277.19</td>\n",
       "      <td>279.61</td>\n",
       "      <td>62162956</td>\n",
       "    </tr>\n",
       "    <tr>\n",
       "      <th>2018-01-18 00:00:00-05:00</th>\n",
       "      <td>108.43</td>\n",
       "      <td>108.5250</td>\n",
       "      <td>108.350</td>\n",
       "      <td>108.38</td>\n",
       "      <td>2681682</td>\n",
       "      <td>279.50</td>\n",
       "      <td>279.96</td>\n",
       "      <td>278.58</td>\n",
       "      <td>279.18</td>\n",
       "      <td>57402163</td>\n",
       "    </tr>\n",
       "    <tr>\n",
       "      <th>2018-01-19 00:00:00-05:00</th>\n",
       "      <td>108.40</td>\n",
       "      <td>108.4000</td>\n",
       "      <td>108.140</td>\n",
       "      <td>108.15</td>\n",
       "      <td>2751607</td>\n",
       "      <td>279.80</td>\n",
       "      <td>280.40</td>\n",
       "      <td>279.14</td>\n",
       "      <td>280.38</td>\n",
       "      <td>55178145</td>\n",
       "    </tr>\n",
       "    <tr>\n",
       "      <th>2018-01-22 00:00:00-05:00</th>\n",
       "      <td>108.22</td>\n",
       "      <td>108.2999</td>\n",
       "      <td>108.110</td>\n",
       "      <td>108.16</td>\n",
       "      <td>3020514</td>\n",
       "      <td>280.17</td>\n",
       "      <td>282.68</td>\n",
       "      <td>280.11</td>\n",
       "      <td>282.67</td>\n",
       "      <td>47776828</td>\n",
       "    </tr>\n",
       "  </tbody>\n",
       "</table>\n",
       "</div>"
      ],
      "text/plain": [
       "                              AGG                                         SPY  \\\n",
       "                             open      high      low   close   volume    open   \n",
       "time                                                                            \n",
       "2018-01-16 00:00:00-05:00  108.87  108.9800  108.715  108.76  6011248  279.35   \n",
       "2018-01-17 00:00:00-05:00  108.73  108.8390  108.620  108.65  2880481  278.04   \n",
       "2018-01-18 00:00:00-05:00  108.43  108.5250  108.350  108.38  2681682  279.50   \n",
       "2018-01-19 00:00:00-05:00  108.40  108.4000  108.140  108.15  2751607  279.80   \n",
       "2018-01-22 00:00:00-05:00  108.22  108.2999  108.110  108.16  3020514  280.17   \n",
       "\n",
       "                                                             \n",
       "                             high     low   close    volume  \n",
       "time                                                         \n",
       "2018-01-16 00:00:00-05:00  280.09  276.18  276.96  70240852  \n",
       "2018-01-17 00:00:00-05:00  280.05  277.19  279.61  62162956  \n",
       "2018-01-18 00:00:00-05:00  279.96  278.58  279.18  57402163  \n",
       "2018-01-19 00:00:00-05:00  280.40  279.14  280.38  55178145  \n",
       "2018-01-22 00:00:00-05:00  282.68  280.11  282.67  47776828  "
      ]
     },
     "metadata": {},
     "output_type": "display_data"
    },
    {
     "data": {
      "text/html": [
       "<div>\n",
       "<style scoped>\n",
       "    .dataframe tbody tr th:only-of-type {\n",
       "        vertical-align: middle;\n",
       "    }\n",
       "\n",
       "    .dataframe tbody tr th {\n",
       "        vertical-align: top;\n",
       "    }\n",
       "\n",
       "    .dataframe thead tr th {\n",
       "        text-align: left;\n",
       "    }\n",
       "\n",
       "    .dataframe thead tr:last-of-type th {\n",
       "        text-align: right;\n",
       "    }\n",
       "</style>\n",
       "<table border=\"1\" class=\"dataframe\">\n",
       "  <thead>\n",
       "    <tr>\n",
       "      <th></th>\n",
       "      <th colspan=\"5\" halign=\"left\">AGG</th>\n",
       "      <th colspan=\"5\" halign=\"left\">SPY</th>\n",
       "    </tr>\n",
       "    <tr>\n",
       "      <th></th>\n",
       "      <th>open</th>\n",
       "      <th>high</th>\n",
       "      <th>low</th>\n",
       "      <th>close</th>\n",
       "      <th>volume</th>\n",
       "      <th>open</th>\n",
       "      <th>high</th>\n",
       "      <th>low</th>\n",
       "      <th>close</th>\n",
       "      <th>volume</th>\n",
       "    </tr>\n",
       "    <tr>\n",
       "      <th>time</th>\n",
       "      <th></th>\n",
       "      <th></th>\n",
       "      <th></th>\n",
       "      <th></th>\n",
       "      <th></th>\n",
       "      <th></th>\n",
       "      <th></th>\n",
       "      <th></th>\n",
       "      <th></th>\n",
       "      <th></th>\n",
       "    </tr>\n",
       "  </thead>\n",
       "  <tbody>\n",
       "    <tr>\n",
       "      <th>2021-12-28 00:00:00-05:00</th>\n",
       "      <td>114.43</td>\n",
       "      <td>114.4500</td>\n",
       "      <td>114.17</td>\n",
       "      <td>114.22</td>\n",
       "      <td>4892072</td>\n",
       "      <td>477.72</td>\n",
       "      <td>478.81</td>\n",
       "      <td>476.06</td>\n",
       "      <td>476.89</td>\n",
       "      <td>37370466</td>\n",
       "    </tr>\n",
       "    <tr>\n",
       "      <th>2021-12-29 00:00:00-05:00</th>\n",
       "      <td>113.99</td>\n",
       "      <td>114.0500</td>\n",
       "      <td>113.81</td>\n",
       "      <td>113.87</td>\n",
       "      <td>5712959</td>\n",
       "      <td>477.00</td>\n",
       "      <td>478.56</td>\n",
       "      <td>475.92</td>\n",
       "      <td>477.46</td>\n",
       "      <td>47223213</td>\n",
       "    </tr>\n",
       "    <tr>\n",
       "      <th>2021-12-30 00:00:00-05:00</th>\n",
       "      <td>113.99</td>\n",
       "      <td>114.1300</td>\n",
       "      <td>113.83</td>\n",
       "      <td>114.12</td>\n",
       "      <td>5044053</td>\n",
       "      <td>477.93</td>\n",
       "      <td>479.00</td>\n",
       "      <td>475.67</td>\n",
       "      <td>476.15</td>\n",
       "      <td>44681636</td>\n",
       "    </tr>\n",
       "    <tr>\n",
       "      <th>2021-12-31 00:00:00-05:00</th>\n",
       "      <td>114.15</td>\n",
       "      <td>114.3100</td>\n",
       "      <td>114.06</td>\n",
       "      <td>114.09</td>\n",
       "      <td>6557778</td>\n",
       "      <td>475.64</td>\n",
       "      <td>476.86</td>\n",
       "      <td>474.67</td>\n",
       "      <td>474.89</td>\n",
       "      <td>51212452</td>\n",
       "    </tr>\n",
       "    <tr>\n",
       "      <th>2022-01-03 00:00:00-05:00</th>\n",
       "      <td>113.67</td>\n",
       "      <td>113.6753</td>\n",
       "      <td>113.31</td>\n",
       "      <td>113.31</td>\n",
       "      <td>8906643</td>\n",
       "      <td>476.32</td>\n",
       "      <td>477.85</td>\n",
       "      <td>473.85</td>\n",
       "      <td>477.76</td>\n",
       "      <td>56128214</td>\n",
       "    </tr>\n",
       "  </tbody>\n",
       "</table>\n",
       "</div>"
      ],
      "text/plain": [
       "                              AGG                                        SPY  \\\n",
       "                             open      high     low   close   volume    open   \n",
       "time                                                                           \n",
       "2021-12-28 00:00:00-05:00  114.43  114.4500  114.17  114.22  4892072  477.72   \n",
       "2021-12-29 00:00:00-05:00  113.99  114.0500  113.81  113.87  5712959  477.00   \n",
       "2021-12-30 00:00:00-05:00  113.99  114.1300  113.83  114.12  5044053  477.93   \n",
       "2021-12-31 00:00:00-05:00  114.15  114.3100  114.06  114.09  6557778  475.64   \n",
       "2022-01-03 00:00:00-05:00  113.67  113.6753  113.31  113.31  8906643  476.32   \n",
       "\n",
       "                                                             \n",
       "                             high     low   close    volume  \n",
       "time                                                         \n",
       "2021-12-28 00:00:00-05:00  478.81  476.06  476.89  37370466  \n",
       "2021-12-29 00:00:00-05:00  478.56  475.92  477.46  47223213  \n",
       "2021-12-30 00:00:00-05:00  479.00  475.67  476.15  44681636  \n",
       "2021-12-31 00:00:00-05:00  476.86  474.67  474.89  51212452  \n",
       "2022-01-03 00:00:00-05:00  477.85  473.85  477.76  56128214  "
      ]
     },
     "metadata": {},
     "output_type": "display_data"
    }
   ],
   "source": [
    "# Use the Alpaca get_barset function to make the API call to get the 3 years worth of pricing data\n",
    "# The tickers and timeframe parameters should have been set in Part 1 of this activity \n",
    "# The start and end dates should be updated with the information set above\n",
    "# Remember to add the df property to the end of the call so the response is returned as a DataFrame\n",
    "pricing_agg_spy_3yrs_df = alpaca.get_barset(symbols=tickers, timeframe=timeframe, start=start_date, end=last_business_day, limit=limit_rows).df\n",
    "\n",
    "\n",
    "# Display both the first and last five rows of the DataFrame\n",
    "display(pricing_agg_spy_3yrs_df.head())\n",
    "display(pricing_agg_spy_3yrs_df.tail())"
   ]
  },
  {
   "cell_type": "markdown",
   "metadata": {},
   "source": [
    "#### Step 2: Run a Monte Carlo simulation of 500 samples and 30 years for the 60/40 portfolio, and then plot the results."
   ]
  },
  {
   "cell_type": "code",
   "execution_count": 123,
   "metadata": {},
   "outputs": [
    {
     "data": {
      "text/html": [
       "<div>\n",
       "<style scoped>\n",
       "    .dataframe tbody tr th:only-of-type {\n",
       "        vertical-align: middle;\n",
       "    }\n",
       "\n",
       "    .dataframe tbody tr th {\n",
       "        vertical-align: top;\n",
       "    }\n",
       "\n",
       "    .dataframe thead tr th {\n",
       "        text-align: left;\n",
       "    }\n",
       "\n",
       "    .dataframe thead tr:last-of-type th {\n",
       "        text-align: right;\n",
       "    }\n",
       "</style>\n",
       "<table border=\"1\" class=\"dataframe\">\n",
       "  <thead>\n",
       "    <tr>\n",
       "      <th></th>\n",
       "      <th colspan=\"6\" halign=\"left\">AGG</th>\n",
       "      <th colspan=\"6\" halign=\"left\">SPY</th>\n",
       "    </tr>\n",
       "    <tr>\n",
       "      <th></th>\n",
       "      <th>open</th>\n",
       "      <th>high</th>\n",
       "      <th>low</th>\n",
       "      <th>close</th>\n",
       "      <th>volume</th>\n",
       "      <th>daily_return</th>\n",
       "      <th>open</th>\n",
       "      <th>high</th>\n",
       "      <th>low</th>\n",
       "      <th>close</th>\n",
       "      <th>volume</th>\n",
       "      <th>daily_return</th>\n",
       "    </tr>\n",
       "    <tr>\n",
       "      <th>time</th>\n",
       "      <th></th>\n",
       "      <th></th>\n",
       "      <th></th>\n",
       "      <th></th>\n",
       "      <th></th>\n",
       "      <th></th>\n",
       "      <th></th>\n",
       "      <th></th>\n",
       "      <th></th>\n",
       "      <th></th>\n",
       "      <th></th>\n",
       "      <th></th>\n",
       "    </tr>\n",
       "  </thead>\n",
       "  <tbody>\n",
       "    <tr>\n",
       "      <th>2018-01-16 00:00:00-05:00</th>\n",
       "      <td>108.87</td>\n",
       "      <td>108.9800</td>\n",
       "      <td>108.715</td>\n",
       "      <td>108.76</td>\n",
       "      <td>6011248</td>\n",
       "      <td>NaN</td>\n",
       "      <td>279.35</td>\n",
       "      <td>280.09</td>\n",
       "      <td>276.18</td>\n",
       "      <td>276.96</td>\n",
       "      <td>70240852</td>\n",
       "      <td>NaN</td>\n",
       "    </tr>\n",
       "    <tr>\n",
       "      <th>2018-01-17 00:00:00-05:00</th>\n",
       "      <td>108.73</td>\n",
       "      <td>108.8390</td>\n",
       "      <td>108.620</td>\n",
       "      <td>108.65</td>\n",
       "      <td>2880481</td>\n",
       "      <td>-0.001011</td>\n",
       "      <td>278.04</td>\n",
       "      <td>280.05</td>\n",
       "      <td>277.19</td>\n",
       "      <td>279.61</td>\n",
       "      <td>62162956</td>\n",
       "      <td>0.009568</td>\n",
       "    </tr>\n",
       "    <tr>\n",
       "      <th>2018-01-18 00:00:00-05:00</th>\n",
       "      <td>108.43</td>\n",
       "      <td>108.5250</td>\n",
       "      <td>108.350</td>\n",
       "      <td>108.38</td>\n",
       "      <td>2681682</td>\n",
       "      <td>-0.002485</td>\n",
       "      <td>279.50</td>\n",
       "      <td>279.96</td>\n",
       "      <td>278.58</td>\n",
       "      <td>279.18</td>\n",
       "      <td>57402163</td>\n",
       "      <td>-0.001538</td>\n",
       "    </tr>\n",
       "    <tr>\n",
       "      <th>2018-01-19 00:00:00-05:00</th>\n",
       "      <td>108.40</td>\n",
       "      <td>108.4000</td>\n",
       "      <td>108.140</td>\n",
       "      <td>108.15</td>\n",
       "      <td>2751607</td>\n",
       "      <td>-0.002122</td>\n",
       "      <td>279.80</td>\n",
       "      <td>280.40</td>\n",
       "      <td>279.14</td>\n",
       "      <td>280.38</td>\n",
       "      <td>55178145</td>\n",
       "      <td>0.004298</td>\n",
       "    </tr>\n",
       "    <tr>\n",
       "      <th>2018-01-22 00:00:00-05:00</th>\n",
       "      <td>108.22</td>\n",
       "      <td>108.2999</td>\n",
       "      <td>108.110</td>\n",
       "      <td>108.16</td>\n",
       "      <td>3020514</td>\n",
       "      <td>0.000092</td>\n",
       "      <td>280.17</td>\n",
       "      <td>282.68</td>\n",
       "      <td>280.11</td>\n",
       "      <td>282.67</td>\n",
       "      <td>47776828</td>\n",
       "      <td>0.008167</td>\n",
       "    </tr>\n",
       "    <tr>\n",
       "      <th>...</th>\n",
       "      <td>...</td>\n",
       "      <td>...</td>\n",
       "      <td>...</td>\n",
       "      <td>...</td>\n",
       "      <td>...</td>\n",
       "      <td>...</td>\n",
       "      <td>...</td>\n",
       "      <td>...</td>\n",
       "      <td>...</td>\n",
       "      <td>...</td>\n",
       "      <td>...</td>\n",
       "      <td>...</td>\n",
       "    </tr>\n",
       "    <tr>\n",
       "      <th>2021-12-28 00:00:00-05:00</th>\n",
       "      <td>114.43</td>\n",
       "      <td>114.4500</td>\n",
       "      <td>114.170</td>\n",
       "      <td>114.22</td>\n",
       "      <td>4892072</td>\n",
       "      <td>-0.000438</td>\n",
       "      <td>477.72</td>\n",
       "      <td>478.81</td>\n",
       "      <td>476.06</td>\n",
       "      <td>476.89</td>\n",
       "      <td>37370466</td>\n",
       "      <td>-0.000796</td>\n",
       "    </tr>\n",
       "    <tr>\n",
       "      <th>2021-12-29 00:00:00-05:00</th>\n",
       "      <td>113.99</td>\n",
       "      <td>114.0500</td>\n",
       "      <td>113.810</td>\n",
       "      <td>113.87</td>\n",
       "      <td>5712959</td>\n",
       "      <td>-0.003064</td>\n",
       "      <td>477.00</td>\n",
       "      <td>478.56</td>\n",
       "      <td>475.92</td>\n",
       "      <td>477.46</td>\n",
       "      <td>47223213</td>\n",
       "      <td>0.001195</td>\n",
       "    </tr>\n",
       "    <tr>\n",
       "      <th>2021-12-30 00:00:00-05:00</th>\n",
       "      <td>113.99</td>\n",
       "      <td>114.1300</td>\n",
       "      <td>113.830</td>\n",
       "      <td>114.12</td>\n",
       "      <td>5044053</td>\n",
       "      <td>0.002195</td>\n",
       "      <td>477.93</td>\n",
       "      <td>479.00</td>\n",
       "      <td>475.67</td>\n",
       "      <td>476.15</td>\n",
       "      <td>44681636</td>\n",
       "      <td>-0.002744</td>\n",
       "    </tr>\n",
       "    <tr>\n",
       "      <th>2021-12-31 00:00:00-05:00</th>\n",
       "      <td>114.15</td>\n",
       "      <td>114.3100</td>\n",
       "      <td>114.060</td>\n",
       "      <td>114.09</td>\n",
       "      <td>6557778</td>\n",
       "      <td>-0.000263</td>\n",
       "      <td>475.64</td>\n",
       "      <td>476.86</td>\n",
       "      <td>474.67</td>\n",
       "      <td>474.89</td>\n",
       "      <td>51212452</td>\n",
       "      <td>-0.002646</td>\n",
       "    </tr>\n",
       "    <tr>\n",
       "      <th>2022-01-03 00:00:00-05:00</th>\n",
       "      <td>113.67</td>\n",
       "      <td>113.6753</td>\n",
       "      <td>113.310</td>\n",
       "      <td>113.31</td>\n",
       "      <td>8906643</td>\n",
       "      <td>-0.006837</td>\n",
       "      <td>476.32</td>\n",
       "      <td>477.85</td>\n",
       "      <td>473.85</td>\n",
       "      <td>477.76</td>\n",
       "      <td>56128214</td>\n",
       "      <td>0.006044</td>\n",
       "    </tr>\n",
       "  </tbody>\n",
       "</table>\n",
       "<p>1000 rows × 12 columns</p>\n",
       "</div>"
      ],
      "text/plain": [
       "                              AGG                                      \\\n",
       "                             open      high      low   close   volume   \n",
       "time                                                                    \n",
       "2018-01-16 00:00:00-05:00  108.87  108.9800  108.715  108.76  6011248   \n",
       "2018-01-17 00:00:00-05:00  108.73  108.8390  108.620  108.65  2880481   \n",
       "2018-01-18 00:00:00-05:00  108.43  108.5250  108.350  108.38  2681682   \n",
       "2018-01-19 00:00:00-05:00  108.40  108.4000  108.140  108.15  2751607   \n",
       "2018-01-22 00:00:00-05:00  108.22  108.2999  108.110  108.16  3020514   \n",
       "...                           ...       ...      ...     ...      ...   \n",
       "2021-12-28 00:00:00-05:00  114.43  114.4500  114.170  114.22  4892072   \n",
       "2021-12-29 00:00:00-05:00  113.99  114.0500  113.810  113.87  5712959   \n",
       "2021-12-30 00:00:00-05:00  113.99  114.1300  113.830  114.12  5044053   \n",
       "2021-12-31 00:00:00-05:00  114.15  114.3100  114.060  114.09  6557778   \n",
       "2022-01-03 00:00:00-05:00  113.67  113.6753  113.310  113.31  8906643   \n",
       "\n",
       "                                           SPY                          \\\n",
       "                          daily_return    open    high     low   close   \n",
       "time                                                                     \n",
       "2018-01-16 00:00:00-05:00          NaN  279.35  280.09  276.18  276.96   \n",
       "2018-01-17 00:00:00-05:00    -0.001011  278.04  280.05  277.19  279.61   \n",
       "2018-01-18 00:00:00-05:00    -0.002485  279.50  279.96  278.58  279.18   \n",
       "2018-01-19 00:00:00-05:00    -0.002122  279.80  280.40  279.14  280.38   \n",
       "2018-01-22 00:00:00-05:00     0.000092  280.17  282.68  280.11  282.67   \n",
       "...                                ...     ...     ...     ...     ...   \n",
       "2021-12-28 00:00:00-05:00    -0.000438  477.72  478.81  476.06  476.89   \n",
       "2021-12-29 00:00:00-05:00    -0.003064  477.00  478.56  475.92  477.46   \n",
       "2021-12-30 00:00:00-05:00     0.002195  477.93  479.00  475.67  476.15   \n",
       "2021-12-31 00:00:00-05:00    -0.000263  475.64  476.86  474.67  474.89   \n",
       "2022-01-03 00:00:00-05:00    -0.006837  476.32  477.85  473.85  477.76   \n",
       "\n",
       "                                                  \n",
       "                             volume daily_return  \n",
       "time                                              \n",
       "2018-01-16 00:00:00-05:00  70240852          NaN  \n",
       "2018-01-17 00:00:00-05:00  62162956     0.009568  \n",
       "2018-01-18 00:00:00-05:00  57402163    -0.001538  \n",
       "2018-01-19 00:00:00-05:00  55178145     0.004298  \n",
       "2018-01-22 00:00:00-05:00  47776828     0.008167  \n",
       "...                             ...          ...  \n",
       "2021-12-28 00:00:00-05:00  37370466    -0.000796  \n",
       "2021-12-29 00:00:00-05:00  47223213     0.001195  \n",
       "2021-12-30 00:00:00-05:00  44681636    -0.002744  \n",
       "2021-12-31 00:00:00-05:00  51212452    -0.002646  \n",
       "2022-01-03 00:00:00-05:00  56128214     0.006044  \n",
       "\n",
       "[1000 rows x 12 columns]"
      ]
     },
     "execution_count": 123,
     "metadata": {},
     "output_type": "execute_result"
    }
   ],
   "source": [
    "# Configure the Monte Carlo simulation to forecast 30 years cumulative returns\n",
    "# The weights should be split 40% to AGG and 60% to SPY.\n",
    "# Run 500 samples.\n",
    "MC_instance_30yrs = MCSimulation(\n",
    "  portfolio_data = pricing_agg_spy_3yrs_df,\n",
    "  weights = [.40,.60],\n",
    "  num_simulation = 500,\n",
    "  num_trading_days = 252 * 30\n",
    ")\n",
    "\n",
    "# Review the simulation input data\n",
    "MC_instance_30yrs.portfolio_data\n"
   ]
  },
  {
   "cell_type": "code",
   "execution_count": 124,
   "metadata": {},
   "outputs": [
    {
     "name": "stdout",
     "output_type": "stream",
     "text": [
      "Running Monte Carlo simulation number 0.\n",
      "Running Monte Carlo simulation number 10.\n",
      "Running Monte Carlo simulation number 20.\n",
      "Running Monte Carlo simulation number 30.\n",
      "Running Monte Carlo simulation number 40.\n",
      "Running Monte Carlo simulation number 50.\n",
      "Running Monte Carlo simulation number 60.\n",
      "Running Monte Carlo simulation number 70.\n",
      "Running Monte Carlo simulation number 80.\n",
      "Running Monte Carlo simulation number 90.\n",
      "Running Monte Carlo simulation number 100.\n"
     ]
    },
    {
     "name": "stderr",
     "output_type": "stream",
     "text": [
      "C:\\Users\\uskir\\FinTech Bootcamp\\Challenges\\Module 5 Challenge - Fin Planning Tools\\MCForecastTools.py:117: PerformanceWarning: DataFrame is highly fragmented.  This is usually the result of calling `frame.insert` many times, which has poor performance.  Consider joining all columns at once using pd.concat(axis=1) instead.  To get a de-fragmented frame, use `newframe = frame.copy()`\n",
      "  portfolio_cumulative_returns[n] = (1 + sim_df.fillna(0)).cumprod()\n"
     ]
    },
    {
     "name": "stdout",
     "output_type": "stream",
     "text": [
      "Running Monte Carlo simulation number 110.\n",
      "Running Monte Carlo simulation number 120.\n",
      "Running Monte Carlo simulation number 130.\n",
      "Running Monte Carlo simulation number 140.\n",
      "Running Monte Carlo simulation number 150.\n",
      "Running Monte Carlo simulation number 160.\n",
      "Running Monte Carlo simulation number 170.\n",
      "Running Monte Carlo simulation number 180.\n",
      "Running Monte Carlo simulation number 190.\n",
      "Running Monte Carlo simulation number 200.\n",
      "Running Monte Carlo simulation number 210.\n",
      "Running Monte Carlo simulation number 220.\n",
      "Running Monte Carlo simulation number 230.\n",
      "Running Monte Carlo simulation number 240.\n",
      "Running Monte Carlo simulation number 250.\n",
      "Running Monte Carlo simulation number 260.\n",
      "Running Monte Carlo simulation number 270.\n",
      "Running Monte Carlo simulation number 280.\n",
      "Running Monte Carlo simulation number 290.\n",
      "Running Monte Carlo simulation number 300.\n",
      "Running Monte Carlo simulation number 310.\n",
      "Running Monte Carlo simulation number 320.\n",
      "Running Monte Carlo simulation number 330.\n",
      "Running Monte Carlo simulation number 340.\n",
      "Running Monte Carlo simulation number 350.\n",
      "Running Monte Carlo simulation number 360.\n",
      "Running Monte Carlo simulation number 370.\n",
      "Running Monte Carlo simulation number 380.\n",
      "Running Monte Carlo simulation number 390.\n",
      "Running Monte Carlo simulation number 400.\n",
      "Running Monte Carlo simulation number 410.\n",
      "Running Monte Carlo simulation number 420.\n",
      "Running Monte Carlo simulation number 430.\n",
      "Running Monte Carlo simulation number 440.\n",
      "Running Monte Carlo simulation number 450.\n",
      "Running Monte Carlo simulation number 460.\n",
      "Running Monte Carlo simulation number 470.\n",
      "Running Monte Carlo simulation number 480.\n",
      "Running Monte Carlo simulation number 490.\n"
     ]
    },
    {
     "data": {
      "text/html": [
       "<div>\n",
       "<style scoped>\n",
       "    .dataframe tbody tr th:only-of-type {\n",
       "        vertical-align: middle;\n",
       "    }\n",
       "\n",
       "    .dataframe tbody tr th {\n",
       "        vertical-align: top;\n",
       "    }\n",
       "\n",
       "    .dataframe thead th {\n",
       "        text-align: right;\n",
       "    }\n",
       "</style>\n",
       "<table border=\"1\" class=\"dataframe\">\n",
       "  <thead>\n",
       "    <tr style=\"text-align: right;\">\n",
       "      <th></th>\n",
       "      <th>0</th>\n",
       "      <th>1</th>\n",
       "      <th>2</th>\n",
       "      <th>3</th>\n",
       "      <th>4</th>\n",
       "      <th>5</th>\n",
       "      <th>6</th>\n",
       "      <th>7</th>\n",
       "      <th>8</th>\n",
       "      <th>9</th>\n",
       "      <th>...</th>\n",
       "      <th>490</th>\n",
       "      <th>491</th>\n",
       "      <th>492</th>\n",
       "      <th>493</th>\n",
       "      <th>494</th>\n",
       "      <th>495</th>\n",
       "      <th>496</th>\n",
       "      <th>497</th>\n",
       "      <th>498</th>\n",
       "      <th>499</th>\n",
       "    </tr>\n",
       "  </thead>\n",
       "  <tbody>\n",
       "    <tr>\n",
       "      <th>0</th>\n",
       "      <td>1.000000</td>\n",
       "      <td>1.000000</td>\n",
       "      <td>1.000000</td>\n",
       "      <td>1.000000</td>\n",
       "      <td>1.000000</td>\n",
       "      <td>1.000000</td>\n",
       "      <td>1.000000</td>\n",
       "      <td>1.000000</td>\n",
       "      <td>1.000000</td>\n",
       "      <td>1.000000</td>\n",
       "      <td>...</td>\n",
       "      <td>1.000000</td>\n",
       "      <td>1.000000</td>\n",
       "      <td>1.000000</td>\n",
       "      <td>1.000000</td>\n",
       "      <td>1.000000</td>\n",
       "      <td>1.000000</td>\n",
       "      <td>1.000000</td>\n",
       "      <td>1.000000</td>\n",
       "      <td>1.000000</td>\n",
       "      <td>1.000000</td>\n",
       "    </tr>\n",
       "    <tr>\n",
       "      <th>1</th>\n",
       "      <td>0.999675</td>\n",
       "      <td>1.002627</td>\n",
       "      <td>1.001748</td>\n",
       "      <td>1.002985</td>\n",
       "      <td>0.994897</td>\n",
       "      <td>0.995233</td>\n",
       "      <td>1.008001</td>\n",
       "      <td>0.986898</td>\n",
       "      <td>1.002202</td>\n",
       "      <td>1.003027</td>\n",
       "      <td>...</td>\n",
       "      <td>0.992394</td>\n",
       "      <td>0.985118</td>\n",
       "      <td>0.997174</td>\n",
       "      <td>0.997559</td>\n",
       "      <td>0.989302</td>\n",
       "      <td>0.995750</td>\n",
       "      <td>0.986048</td>\n",
       "      <td>0.999301</td>\n",
       "      <td>1.013178</td>\n",
       "      <td>1.003316</td>\n",
       "    </tr>\n",
       "    <tr>\n",
       "      <th>2</th>\n",
       "      <td>1.007920</td>\n",
       "      <td>1.014614</td>\n",
       "      <td>0.995840</td>\n",
       "      <td>1.009167</td>\n",
       "      <td>1.004186</td>\n",
       "      <td>0.998216</td>\n",
       "      <td>0.999899</td>\n",
       "      <td>0.985201</td>\n",
       "      <td>1.010154</td>\n",
       "      <td>1.004848</td>\n",
       "      <td>...</td>\n",
       "      <td>0.991687</td>\n",
       "      <td>0.982385</td>\n",
       "      <td>0.997254</td>\n",
       "      <td>0.993928</td>\n",
       "      <td>0.981270</td>\n",
       "      <td>0.996543</td>\n",
       "      <td>0.988323</td>\n",
       "      <td>1.008538</td>\n",
       "      <td>1.022444</td>\n",
       "      <td>1.010495</td>\n",
       "    </tr>\n",
       "    <tr>\n",
       "      <th>3</th>\n",
       "      <td>1.015116</td>\n",
       "      <td>1.016250</td>\n",
       "      <td>0.996534</td>\n",
       "      <td>1.003852</td>\n",
       "      <td>0.995421</td>\n",
       "      <td>0.994119</td>\n",
       "      <td>0.994279</td>\n",
       "      <td>0.977696</td>\n",
       "      <td>1.018801</td>\n",
       "      <td>0.996459</td>\n",
       "      <td>...</td>\n",
       "      <td>0.994095</td>\n",
       "      <td>0.983727</td>\n",
       "      <td>0.998449</td>\n",
       "      <td>0.994181</td>\n",
       "      <td>0.978239</td>\n",
       "      <td>0.992986</td>\n",
       "      <td>0.991396</td>\n",
       "      <td>1.008032</td>\n",
       "      <td>1.032394</td>\n",
       "      <td>1.024128</td>\n",
       "    </tr>\n",
       "    <tr>\n",
       "      <th>4</th>\n",
       "      <td>1.015157</td>\n",
       "      <td>1.020125</td>\n",
       "      <td>0.992366</td>\n",
       "      <td>0.993529</td>\n",
       "      <td>0.995069</td>\n",
       "      <td>0.986232</td>\n",
       "      <td>0.992010</td>\n",
       "      <td>0.983642</td>\n",
       "      <td>1.021576</td>\n",
       "      <td>0.994742</td>\n",
       "      <td>...</td>\n",
       "      <td>0.993532</td>\n",
       "      <td>0.989929</td>\n",
       "      <td>0.997496</td>\n",
       "      <td>0.988015</td>\n",
       "      <td>0.963983</td>\n",
       "      <td>0.981932</td>\n",
       "      <td>0.988240</td>\n",
       "      <td>1.001246</td>\n",
       "      <td>1.039792</td>\n",
       "      <td>1.030434</td>\n",
       "    </tr>\n",
       "    <tr>\n",
       "      <th>...</th>\n",
       "      <td>...</td>\n",
       "      <td>...</td>\n",
       "      <td>...</td>\n",
       "      <td>...</td>\n",
       "      <td>...</td>\n",
       "      <td>...</td>\n",
       "      <td>...</td>\n",
       "      <td>...</td>\n",
       "      <td>...</td>\n",
       "      <td>...</td>\n",
       "      <td>...</td>\n",
       "      <td>...</td>\n",
       "      <td>...</td>\n",
       "      <td>...</td>\n",
       "      <td>...</td>\n",
       "      <td>...</td>\n",
       "      <td>...</td>\n",
       "      <td>...</td>\n",
       "      <td>...</td>\n",
       "      <td>...</td>\n",
       "      <td>...</td>\n",
       "    </tr>\n",
       "    <tr>\n",
       "      <th>7556</th>\n",
       "      <td>69.630199</td>\n",
       "      <td>31.827304</td>\n",
       "      <td>21.044968</td>\n",
       "      <td>16.268751</td>\n",
       "      <td>10.688874</td>\n",
       "      <td>6.366181</td>\n",
       "      <td>15.112922</td>\n",
       "      <td>27.817431</td>\n",
       "      <td>6.625802</td>\n",
       "      <td>39.266318</td>\n",
       "      <td>...</td>\n",
       "      <td>20.704623</td>\n",
       "      <td>41.255274</td>\n",
       "      <td>33.016020</td>\n",
       "      <td>21.752110</td>\n",
       "      <td>21.416658</td>\n",
       "      <td>7.120462</td>\n",
       "      <td>12.555873</td>\n",
       "      <td>21.879739</td>\n",
       "      <td>31.588769</td>\n",
       "      <td>8.152281</td>\n",
       "    </tr>\n",
       "    <tr>\n",
       "      <th>7557</th>\n",
       "      <td>70.073124</td>\n",
       "      <td>32.022444</td>\n",
       "      <td>20.671867</td>\n",
       "      <td>16.421364</td>\n",
       "      <td>10.617907</td>\n",
       "      <td>6.459580</td>\n",
       "      <td>14.935875</td>\n",
       "      <td>27.898182</td>\n",
       "      <td>6.567206</td>\n",
       "      <td>39.698366</td>\n",
       "      <td>...</td>\n",
       "      <td>21.006852</td>\n",
       "      <td>42.032625</td>\n",
       "      <td>32.494677</td>\n",
       "      <td>21.836737</td>\n",
       "      <td>21.086571</td>\n",
       "      <td>7.127137</td>\n",
       "      <td>12.469966</td>\n",
       "      <td>22.082975</td>\n",
       "      <td>31.761241</td>\n",
       "      <td>8.046766</td>\n",
       "    </tr>\n",
       "    <tr>\n",
       "      <th>7558</th>\n",
       "      <td>69.368224</td>\n",
       "      <td>31.897868</td>\n",
       "      <td>20.522730</td>\n",
       "      <td>16.274960</td>\n",
       "      <td>10.614242</td>\n",
       "      <td>6.524488</td>\n",
       "      <td>14.903052</td>\n",
       "      <td>27.789792</td>\n",
       "      <td>6.578191</td>\n",
       "      <td>39.951068</td>\n",
       "      <td>...</td>\n",
       "      <td>21.045734</td>\n",
       "      <td>41.851746</td>\n",
       "      <td>32.244749</td>\n",
       "      <td>21.937226</td>\n",
       "      <td>21.166999</td>\n",
       "      <td>7.125556</td>\n",
       "      <td>12.274731</td>\n",
       "      <td>22.287043</td>\n",
       "      <td>31.798718</td>\n",
       "      <td>8.103212</td>\n",
       "    </tr>\n",
       "    <tr>\n",
       "      <th>7559</th>\n",
       "      <td>69.793693</td>\n",
       "      <td>31.899845</td>\n",
       "      <td>20.472577</td>\n",
       "      <td>16.235938</td>\n",
       "      <td>10.652704</td>\n",
       "      <td>6.503054</td>\n",
       "      <td>14.853909</td>\n",
       "      <td>28.029510</td>\n",
       "      <td>6.520146</td>\n",
       "      <td>39.922737</td>\n",
       "      <td>...</td>\n",
       "      <td>21.415825</td>\n",
       "      <td>42.435273</td>\n",
       "      <td>31.970195</td>\n",
       "      <td>22.123305</td>\n",
       "      <td>21.167519</td>\n",
       "      <td>7.084246</td>\n",
       "      <td>12.344175</td>\n",
       "      <td>22.486738</td>\n",
       "      <td>31.651835</td>\n",
       "      <td>8.149254</td>\n",
       "    </tr>\n",
       "    <tr>\n",
       "      <th>7560</th>\n",
       "      <td>69.923838</td>\n",
       "      <td>31.834554</td>\n",
       "      <td>20.500154</td>\n",
       "      <td>16.306289</td>\n",
       "      <td>10.722059</td>\n",
       "      <td>6.474652</td>\n",
       "      <td>14.876533</td>\n",
       "      <td>28.275537</td>\n",
       "      <td>6.569197</td>\n",
       "      <td>39.798924</td>\n",
       "      <td>...</td>\n",
       "      <td>21.356056</td>\n",
       "      <td>41.923214</td>\n",
       "      <td>31.968826</td>\n",
       "      <td>22.390529</td>\n",
       "      <td>21.045131</td>\n",
       "      <td>7.108703</td>\n",
       "      <td>12.493832</td>\n",
       "      <td>22.597492</td>\n",
       "      <td>31.844408</td>\n",
       "      <td>8.132586</td>\n",
       "    </tr>\n",
       "  </tbody>\n",
       "</table>\n",
       "<p>7561 rows × 500 columns</p>\n",
       "</div>"
      ],
      "text/plain": [
       "            0          1          2          3          4         5    \\\n",
       "0      1.000000   1.000000   1.000000   1.000000   1.000000  1.000000   \n",
       "1      0.999675   1.002627   1.001748   1.002985   0.994897  0.995233   \n",
       "2      1.007920   1.014614   0.995840   1.009167   1.004186  0.998216   \n",
       "3      1.015116   1.016250   0.996534   1.003852   0.995421  0.994119   \n",
       "4      1.015157   1.020125   0.992366   0.993529   0.995069  0.986232   \n",
       "...         ...        ...        ...        ...        ...       ...   \n",
       "7556  69.630199  31.827304  21.044968  16.268751  10.688874  6.366181   \n",
       "7557  70.073124  32.022444  20.671867  16.421364  10.617907  6.459580   \n",
       "7558  69.368224  31.897868  20.522730  16.274960  10.614242  6.524488   \n",
       "7559  69.793693  31.899845  20.472577  16.235938  10.652704  6.503054   \n",
       "7560  69.923838  31.834554  20.500154  16.306289  10.722059  6.474652   \n",
       "\n",
       "            6          7         8          9    ...        490        491  \\\n",
       "0      1.000000   1.000000  1.000000   1.000000  ...   1.000000   1.000000   \n",
       "1      1.008001   0.986898  1.002202   1.003027  ...   0.992394   0.985118   \n",
       "2      0.999899   0.985201  1.010154   1.004848  ...   0.991687   0.982385   \n",
       "3      0.994279   0.977696  1.018801   0.996459  ...   0.994095   0.983727   \n",
       "4      0.992010   0.983642  1.021576   0.994742  ...   0.993532   0.989929   \n",
       "...         ...        ...       ...        ...  ...        ...        ...   \n",
       "7556  15.112922  27.817431  6.625802  39.266318  ...  20.704623  41.255274   \n",
       "7557  14.935875  27.898182  6.567206  39.698366  ...  21.006852  42.032625   \n",
       "7558  14.903052  27.789792  6.578191  39.951068  ...  21.045734  41.851746   \n",
       "7559  14.853909  28.029510  6.520146  39.922737  ...  21.415825  42.435273   \n",
       "7560  14.876533  28.275537  6.569197  39.798924  ...  21.356056  41.923214   \n",
       "\n",
       "            492        493        494       495        496        497  \\\n",
       "0      1.000000   1.000000   1.000000  1.000000   1.000000   1.000000   \n",
       "1      0.997174   0.997559   0.989302  0.995750   0.986048   0.999301   \n",
       "2      0.997254   0.993928   0.981270  0.996543   0.988323   1.008538   \n",
       "3      0.998449   0.994181   0.978239  0.992986   0.991396   1.008032   \n",
       "4      0.997496   0.988015   0.963983  0.981932   0.988240   1.001246   \n",
       "...         ...        ...        ...       ...        ...        ...   \n",
       "7556  33.016020  21.752110  21.416658  7.120462  12.555873  21.879739   \n",
       "7557  32.494677  21.836737  21.086571  7.127137  12.469966  22.082975   \n",
       "7558  32.244749  21.937226  21.166999  7.125556  12.274731  22.287043   \n",
       "7559  31.970195  22.123305  21.167519  7.084246  12.344175  22.486738   \n",
       "7560  31.968826  22.390529  21.045131  7.108703  12.493832  22.597492   \n",
       "\n",
       "            498       499  \n",
       "0      1.000000  1.000000  \n",
       "1      1.013178  1.003316  \n",
       "2      1.022444  1.010495  \n",
       "3      1.032394  1.024128  \n",
       "4      1.039792  1.030434  \n",
       "...         ...       ...  \n",
       "7556  31.588769  8.152281  \n",
       "7557  31.761241  8.046766  \n",
       "7558  31.798718  8.103212  \n",
       "7559  31.651835  8.149254  \n",
       "7560  31.844408  8.132586  \n",
       "\n",
       "[7561 rows x 500 columns]"
      ]
     },
     "execution_count": 124,
     "metadata": {},
     "output_type": "execute_result"
    }
   ],
   "source": [
    "# Run the Monte Carlo simulation to forecast 30 years cumulative returns\n",
    "MC_instance_30yrs.calc_cumulative_return()\n"
   ]
  },
  {
   "cell_type": "code",
   "execution_count": 125,
   "metadata": {},
   "outputs": [
    {
     "data": {
      "text/plain": [
       "<AxesSubplot:title={'center':'500 Simulations of Cumulative Portfolio Return Trajectories Over the Next 7560 Trading Days.'}>"
      ]
     },
     "execution_count": 125,
     "metadata": {},
     "output_type": "execute_result"
    },
    {
     "data": {
      "image/png": "[encoded data removed]",
      "text/plain": [
       "<Figure size 432x288 with 1 Axes>"
      ]
     },
     "metadata": {
      "needs_background": "light"
     },
     "output_type": "display_data"
    }
   ],
   "source": [
    "# Visualize the 30-year Monte Carlo simulation by creating an\n",
    "# overlay line plot\n",
    "MC_instance_30yrs.plot_simulation()"
   ]
  },
  {
   "cell_type": "markdown",
   "metadata": {},
   "source": [
    "#### Step 3: Plot the probability distribution of the Monte Carlo simulation."
   ]
  },
  {
   "cell_type": "code",
   "execution_count": 126,
   "metadata": {},
   "outputs": [
    {
     "data": {
      "text/plain": [
       "<AxesSubplot:title={'center':'Distribution of Final Cumuluative Returns Across All 500 Simulations'}, ylabel='Frequency'>"
      ]
     },
     "execution_count": 126,
     "metadata": {},
     "output_type": "execute_result"
    },
    {
     "data": {
      "image/png": "[encoded data removed]",
      "text/plain": [
       "<Figure size 432x288 with 1 Axes>"
      ]
     },
     "metadata": {
      "needs_background": "light"
     },
     "output_type": "display_data"
    }
   ],
   "source": [
    "# Visualize the probability distribution of the 30-year Monte Carlo simulation \n",
    "# by plotting a histogram\n",
    "MC_instance_30yrs.plot_distribution()"
   ]
  },
  {
   "cell_type": "markdown",
   "metadata": {},
   "source": [
    "#### Step 4: Generate the summary statistics for the Monte Carlo simulation."
   ]
  },
  {
   "cell_type": "code",
   "execution_count": 127,
   "metadata": {},
   "outputs": [
    {
     "data": {
      "text/plain": [
       "count           500.000000\n",
       "mean             20.084015\n",
       "std              15.258890\n",
       "min               2.340524\n",
       "25%              10.313879\n",
       "50%              15.818963\n",
       "75%              24.426700\n",
       "max             121.854695\n",
       "95% CI Lower      4.617920\n",
       "95% CI Upper     58.621074\n",
       "Name: 7560, dtype: float64"
      ]
     },
     "execution_count": 127,
     "metadata": {},
     "output_type": "execute_result"
    }
   ],
   "source": [
    "# Generate summary statistics from the 30-year Monte Carlo simulation results\n",
    "# Save the results as a variable\n",
    "MC_stat_30yrs = MC_instance_30yrs.summarize_cumulative_return()\n",
    "\n",
    "\n",
    "# Review the 30-year Monte Carlo summary statistics\n",
    "MC_stat_30yrs"
   ]
  },
  {
   "cell_type": "markdown",
   "metadata": {},
   "source": [
    "### Analyze the Retirement Portfolio Forecasts\n",
    "\n",
    "Using the current value of only the stock and bond portion of the member's portfolio and the summary statistics that you generated from the Monte Carlo simulation, answer the following question in your Jupyter notebook:\n",
    "\n",
    "-  What are the lower and upper bounds for the expected value of the portfolio with a 95% confidence interval?\n"
   ]
  },
  {
   "cell_type": "code",
   "execution_count": 128,
   "metadata": {},
   "outputs": [
    {
     "name": "stdout",
     "output_type": "stream",
     "text": [
      "The current balance of stock and bond portion in the portfolio is $75055.90\n"
     ]
    }
   ],
   "source": [
    "# Print the current balance of the stock and bond portion of the members portfolio\n",
    "print(f'The current balance of stock and bond portion in the portfolio is ${total_stocks_bonds:.2f}')\n"
   ]
  },
  {
   "cell_type": "code",
   "execution_count": 129,
   "metadata": {},
   "outputs": [
    {
     "name": "stdout",
     "output_type": "stream",
     "text": [
      "There is a 95% chance that the current value of the stock and bond portion of the portfolio with a 60% weight in SPY and 40% weight in AGG over the next 30 years will end within the range of $346602.14 and $4399857.47.\n"
     ]
    }
   ],
   "source": [
    "# Use the lower and upper `95%` confidence intervals to calculate the range of the possible outcomes for the current stock/bond portfolio\n",
    "ci_lower_thirty_cumulative_return = total_stocks_bonds * MC_stat_30yrs['95% CI Lower']\n",
    "ci_upper_thirty_cumulative_return = total_stocks_bonds * MC_stat_30yrs['95% CI Upper']\n",
    "\n",
    "# Print the result of your calculations\n",
    "print(f\"There is a 95% chance that the current value of the stock and bond portion of the portfolio\"\n",
    "      f\" with a 60% weight in SPY and 40% weight in AGG over the next 30 years will end within the range of\"\n",
    "      f\" ${ci_lower_thirty_cumulative_return:.2f} and ${ci_upper_thirty_cumulative_return:.2f}.\")\n"
   ]
  },
  {
   "cell_type": "markdown",
   "metadata": {},
   "source": [
    "### Forecast Cumulative Returns in 10 Years\n",
    "\n",
    "The CTO of the credit union is impressed with your work on these planning tools but wonders if 30 years is a long time to wait until retirement. So, your next task is to adjust the retirement portfolio and run a new Monte Carlo simulation to find out if the changes will allow members to retire earlier.\n",
    "\n",
    "For this new Monte Carlo simulation, do the following: \n",
    "\n",
    "- Forecast the cumulative returns for 10 years from now. Because of the shortened investment horizon (30 years to 10 years), the portfolio needs to invest more heavily in the riskier asset&mdash;that is, stock&mdash;to help accumulate wealth for retirement. \n",
    "\n",
    "- Adjust the weights of the retirement portfolio so that the composition for the Monte Carlo simulation consists of 20% bonds and 80% stocks. \n",
    "\n",
    "- Run the simulation over 500 samples, and use the same data that the API call to Alpaca generated.\n",
    "\n",
    "- Based on the new Monte Carlo simulation, answer the following questions in your Jupyter notebook:\n",
    "\n",
    "    - Using the current value of only the stock and bond portion of the member's portfolio and the summary statistics that you generated from the new Monte Carlo simulation, what are the lower and upper bounds for the expected value of the portfolio (with the new weights) with a 95% confidence interval?\n",
    "\n",
    "    - Will weighting the portfolio more heavily toward stocks allow the credit union members to retire after only 10 years?\n"
   ]
  },
  {
   "cell_type": "code",
   "execution_count": 131,
   "metadata": {},
   "outputs": [
    {
     "data": {
      "text/html": [
       "<div>\n",
       "<style scoped>\n",
       "    .dataframe tbody tr th:only-of-type {\n",
       "        vertical-align: middle;\n",
       "    }\n",
       "\n",
       "    .dataframe tbody tr th {\n",
       "        vertical-align: top;\n",
       "    }\n",
       "\n",
       "    .dataframe thead tr th {\n",
       "        text-align: left;\n",
       "    }\n",
       "\n",
       "    .dataframe thead tr:last-of-type th {\n",
       "        text-align: right;\n",
       "    }\n",
       "</style>\n",
       "<table border=\"1\" class=\"dataframe\">\n",
       "  <thead>\n",
       "    <tr>\n",
       "      <th></th>\n",
       "      <th colspan=\"6\" halign=\"left\">AGG</th>\n",
       "      <th colspan=\"6\" halign=\"left\">SPY</th>\n",
       "    </tr>\n",
       "    <tr>\n",
       "      <th></th>\n",
       "      <th>open</th>\n",
       "      <th>high</th>\n",
       "      <th>low</th>\n",
       "      <th>close</th>\n",
       "      <th>volume</th>\n",
       "      <th>daily_return</th>\n",
       "      <th>open</th>\n",
       "      <th>high</th>\n",
       "      <th>low</th>\n",
       "      <th>close</th>\n",
       "      <th>volume</th>\n",
       "      <th>daily_return</th>\n",
       "    </tr>\n",
       "    <tr>\n",
       "      <th>time</th>\n",
       "      <th></th>\n",
       "      <th></th>\n",
       "      <th></th>\n",
       "      <th></th>\n",
       "      <th></th>\n",
       "      <th></th>\n",
       "      <th></th>\n",
       "      <th></th>\n",
       "      <th></th>\n",
       "      <th></th>\n",
       "      <th></th>\n",
       "      <th></th>\n",
       "    </tr>\n",
       "  </thead>\n",
       "  <tbody>\n",
       "    <tr>\n",
       "      <th>2018-01-16 00:00:00-05:00</th>\n",
       "      <td>108.87</td>\n",
       "      <td>108.9800</td>\n",
       "      <td>108.715</td>\n",
       "      <td>108.76</td>\n",
       "      <td>6011248</td>\n",
       "      <td>NaN</td>\n",
       "      <td>279.35</td>\n",
       "      <td>280.09</td>\n",
       "      <td>276.18</td>\n",
       "      <td>276.96</td>\n",
       "      <td>70240852</td>\n",
       "      <td>NaN</td>\n",
       "    </tr>\n",
       "    <tr>\n",
       "      <th>2018-01-17 00:00:00-05:00</th>\n",
       "      <td>108.73</td>\n",
       "      <td>108.8390</td>\n",
       "      <td>108.620</td>\n",
       "      <td>108.65</td>\n",
       "      <td>2880481</td>\n",
       "      <td>-0.001011</td>\n",
       "      <td>278.04</td>\n",
       "      <td>280.05</td>\n",
       "      <td>277.19</td>\n",
       "      <td>279.61</td>\n",
       "      <td>62162956</td>\n",
       "      <td>0.009568</td>\n",
       "    </tr>\n",
       "    <tr>\n",
       "      <th>2018-01-18 00:00:00-05:00</th>\n",
       "      <td>108.43</td>\n",
       "      <td>108.5250</td>\n",
       "      <td>108.350</td>\n",
       "      <td>108.38</td>\n",
       "      <td>2681682</td>\n",
       "      <td>-0.002485</td>\n",
       "      <td>279.50</td>\n",
       "      <td>279.96</td>\n",
       "      <td>278.58</td>\n",
       "      <td>279.18</td>\n",
       "      <td>57402163</td>\n",
       "      <td>-0.001538</td>\n",
       "    </tr>\n",
       "    <tr>\n",
       "      <th>2018-01-19 00:00:00-05:00</th>\n",
       "      <td>108.40</td>\n",
       "      <td>108.4000</td>\n",
       "      <td>108.140</td>\n",
       "      <td>108.15</td>\n",
       "      <td>2751607</td>\n",
       "      <td>-0.002122</td>\n",
       "      <td>279.80</td>\n",
       "      <td>280.40</td>\n",
       "      <td>279.14</td>\n",
       "      <td>280.38</td>\n",
       "      <td>55178145</td>\n",
       "      <td>0.004298</td>\n",
       "    </tr>\n",
       "    <tr>\n",
       "      <th>2018-01-22 00:00:00-05:00</th>\n",
       "      <td>108.22</td>\n",
       "      <td>108.2999</td>\n",
       "      <td>108.110</td>\n",
       "      <td>108.16</td>\n",
       "      <td>3020514</td>\n",
       "      <td>0.000092</td>\n",
       "      <td>280.17</td>\n",
       "      <td>282.68</td>\n",
       "      <td>280.11</td>\n",
       "      <td>282.67</td>\n",
       "      <td>47776828</td>\n",
       "      <td>0.008167</td>\n",
       "    </tr>\n",
       "    <tr>\n",
       "      <th>...</th>\n",
       "      <td>...</td>\n",
       "      <td>...</td>\n",
       "      <td>...</td>\n",
       "      <td>...</td>\n",
       "      <td>...</td>\n",
       "      <td>...</td>\n",
       "      <td>...</td>\n",
       "      <td>...</td>\n",
       "      <td>...</td>\n",
       "      <td>...</td>\n",
       "      <td>...</td>\n",
       "      <td>...</td>\n",
       "    </tr>\n",
       "    <tr>\n",
       "      <th>2021-12-28 00:00:00-05:00</th>\n",
       "      <td>114.43</td>\n",
       "      <td>114.4500</td>\n",
       "      <td>114.170</td>\n",
       "      <td>114.22</td>\n",
       "      <td>4892072</td>\n",
       "      <td>-0.000438</td>\n",
       "      <td>477.72</td>\n",
       "      <td>478.81</td>\n",
       "      <td>476.06</td>\n",
       "      <td>476.89</td>\n",
       "      <td>37370466</td>\n",
       "      <td>-0.000796</td>\n",
       "    </tr>\n",
       "    <tr>\n",
       "      <th>2021-12-29 00:00:00-05:00</th>\n",
       "      <td>113.99</td>\n",
       "      <td>114.0500</td>\n",
       "      <td>113.810</td>\n",
       "      <td>113.87</td>\n",
       "      <td>5712959</td>\n",
       "      <td>-0.003064</td>\n",
       "      <td>477.00</td>\n",
       "      <td>478.56</td>\n",
       "      <td>475.92</td>\n",
       "      <td>477.46</td>\n",
       "      <td>47223213</td>\n",
       "      <td>0.001195</td>\n",
       "    </tr>\n",
       "    <tr>\n",
       "      <th>2021-12-30 00:00:00-05:00</th>\n",
       "      <td>113.99</td>\n",
       "      <td>114.1300</td>\n",
       "      <td>113.830</td>\n",
       "      <td>114.12</td>\n",
       "      <td>5044053</td>\n",
       "      <td>0.002195</td>\n",
       "      <td>477.93</td>\n",
       "      <td>479.00</td>\n",
       "      <td>475.67</td>\n",
       "      <td>476.15</td>\n",
       "      <td>44681636</td>\n",
       "      <td>-0.002744</td>\n",
       "    </tr>\n",
       "    <tr>\n",
       "      <th>2021-12-31 00:00:00-05:00</th>\n",
       "      <td>114.15</td>\n",
       "      <td>114.3100</td>\n",
       "      <td>114.060</td>\n",
       "      <td>114.09</td>\n",
       "      <td>6557778</td>\n",
       "      <td>-0.000263</td>\n",
       "      <td>475.64</td>\n",
       "      <td>476.86</td>\n",
       "      <td>474.67</td>\n",
       "      <td>474.89</td>\n",
       "      <td>51212452</td>\n",
       "      <td>-0.002646</td>\n",
       "    </tr>\n",
       "    <tr>\n",
       "      <th>2022-01-03 00:00:00-05:00</th>\n",
       "      <td>113.67</td>\n",
       "      <td>113.6753</td>\n",
       "      <td>113.310</td>\n",
       "      <td>113.31</td>\n",
       "      <td>8906643</td>\n",
       "      <td>-0.006837</td>\n",
       "      <td>476.32</td>\n",
       "      <td>477.85</td>\n",
       "      <td>473.85</td>\n",
       "      <td>477.76</td>\n",
       "      <td>56128214</td>\n",
       "      <td>0.006044</td>\n",
       "    </tr>\n",
       "  </tbody>\n",
       "</table>\n",
       "<p>1000 rows × 12 columns</p>\n",
       "</div>"
      ],
      "text/plain": [
       "                              AGG                                      \\\n",
       "                             open      high      low   close   volume   \n",
       "time                                                                    \n",
       "2018-01-16 00:00:00-05:00  108.87  108.9800  108.715  108.76  6011248   \n",
       "2018-01-17 00:00:00-05:00  108.73  108.8390  108.620  108.65  2880481   \n",
       "2018-01-18 00:00:00-05:00  108.43  108.5250  108.350  108.38  2681682   \n",
       "2018-01-19 00:00:00-05:00  108.40  108.4000  108.140  108.15  2751607   \n",
       "2018-01-22 00:00:00-05:00  108.22  108.2999  108.110  108.16  3020514   \n",
       "...                           ...       ...      ...     ...      ...   \n",
       "2021-12-28 00:00:00-05:00  114.43  114.4500  114.170  114.22  4892072   \n",
       "2021-12-29 00:00:00-05:00  113.99  114.0500  113.810  113.87  5712959   \n",
       "2021-12-30 00:00:00-05:00  113.99  114.1300  113.830  114.12  5044053   \n",
       "2021-12-31 00:00:00-05:00  114.15  114.3100  114.060  114.09  6557778   \n",
       "2022-01-03 00:00:00-05:00  113.67  113.6753  113.310  113.31  8906643   \n",
       "\n",
       "                                           SPY                          \\\n",
       "                          daily_return    open    high     low   close   \n",
       "time                                                                     \n",
       "2018-01-16 00:00:00-05:00          NaN  279.35  280.09  276.18  276.96   \n",
       "2018-01-17 00:00:00-05:00    -0.001011  278.04  280.05  277.19  279.61   \n",
       "2018-01-18 00:00:00-05:00    -0.002485  279.50  279.96  278.58  279.18   \n",
       "2018-01-19 00:00:00-05:00    -0.002122  279.80  280.40  279.14  280.38   \n",
       "2018-01-22 00:00:00-05:00     0.000092  280.17  282.68  280.11  282.67   \n",
       "...                                ...     ...     ...     ...     ...   \n",
       "2021-12-28 00:00:00-05:00    -0.000438  477.72  478.81  476.06  476.89   \n",
       "2021-12-29 00:00:00-05:00    -0.003064  477.00  478.56  475.92  477.46   \n",
       "2021-12-30 00:00:00-05:00     0.002195  477.93  479.00  475.67  476.15   \n",
       "2021-12-31 00:00:00-05:00    -0.000263  475.64  476.86  474.67  474.89   \n",
       "2022-01-03 00:00:00-05:00    -0.006837  476.32  477.85  473.85  477.76   \n",
       "\n",
       "                                                  \n",
       "                             volume daily_return  \n",
       "time                                              \n",
       "2018-01-16 00:00:00-05:00  70240852          NaN  \n",
       "2018-01-17 00:00:00-05:00  62162956     0.009568  \n",
       "2018-01-18 00:00:00-05:00  57402163    -0.001538  \n",
       "2018-01-19 00:00:00-05:00  55178145     0.004298  \n",
       "2018-01-22 00:00:00-05:00  47776828     0.008167  \n",
       "...                             ...          ...  \n",
       "2021-12-28 00:00:00-05:00  37370466    -0.000796  \n",
       "2021-12-29 00:00:00-05:00  47223213     0.001195  \n",
       "2021-12-30 00:00:00-05:00  44681636    -0.002744  \n",
       "2021-12-31 00:00:00-05:00  51212452    -0.002646  \n",
       "2022-01-03 00:00:00-05:00  56128214     0.006044  \n",
       "\n",
       "[1000 rows x 12 columns]"
      ]
     },
     "execution_count": 131,
     "metadata": {},
     "output_type": "execute_result"
    }
   ],
   "source": [
    "# Configure a Monte Carlo simulation to forecast 10 years cumulative returns\n",
    "# The weights should be split 20% to AGG and 80% to SPY.\n",
    "# Run 500 samples.\n",
    "MC_instance_10yrs = MCSimulation(\n",
    "  portfolio_data = pricing_agg_spy_3yrs_df,\n",
    "  weights = [.20,.80],\n",
    "  num_simulation = 500,\n",
    "  num_trading_days = 252 * 10\n",
    ")\n",
    "\n",
    "# Review the simulation input data\n",
    "MC_instance_10yrs.portfolio_data\n"
   ]
  },
  {
   "cell_type": "code",
   "execution_count": 132,
   "metadata": {},
   "outputs": [
    {
     "name": "stdout",
     "output_type": "stream",
     "text": [
      "Running Monte Carlo simulation number 0.\n",
      "Running Monte Carlo simulation number 10.\n",
      "Running Monte Carlo simulation number 20.\n",
      "Running Monte Carlo simulation number 30.\n",
      "Running Monte Carlo simulation number 40.\n",
      "Running Monte Carlo simulation number 50.\n",
      "Running Monte Carlo simulation number 60.\n",
      "Running Monte Carlo simulation number 70.\n",
      "Running Monte Carlo simulation number 80.\n",
      "Running Monte Carlo simulation number 90.\n",
      "Running Monte Carlo simulation number 100.\n"
     ]
    },
    {
     "name": "stderr",
     "output_type": "stream",
     "text": [
      "C:\\Users\\uskir\\FinTech Bootcamp\\Challenges\\Module 5 Challenge - Fin Planning Tools\\MCForecastTools.py:117: PerformanceWarning: DataFrame is highly fragmented.  This is usually the result of calling `frame.insert` many times, which has poor performance.  Consider joining all columns at once using pd.concat(axis=1) instead.  To get a de-fragmented frame, use `newframe = frame.copy()`\n",
      "  portfolio_cumulative_returns[n] = (1 + sim_df.fillna(0)).cumprod()\n"
     ]
    },
    {
     "name": "stdout",
     "output_type": "stream",
     "text": [
      "Running Monte Carlo simulation number 110.\n",
      "Running Monte Carlo simulation number 120.\n",
      "Running Monte Carlo simulation number 130.\n",
      "Running Monte Carlo simulation number 140.\n",
      "Running Monte Carlo simulation number 150.\n",
      "Running Monte Carlo simulation number 160.\n",
      "Running Monte Carlo simulation number 170.\n",
      "Running Monte Carlo simulation number 180.\n",
      "Running Monte Carlo simulation number 190.\n",
      "Running Monte Carlo simulation number 200.\n",
      "Running Monte Carlo simulation number 210.\n",
      "Running Monte Carlo simulation number 220.\n",
      "Running Monte Carlo simulation number 230.\n",
      "Running Monte Carlo simulation number 240.\n",
      "Running Monte Carlo simulation number 250.\n",
      "Running Monte Carlo simulation number 260.\n",
      "Running Monte Carlo simulation number 270.\n",
      "Running Monte Carlo simulation number 280.\n",
      "Running Monte Carlo simulation number 290.\n",
      "Running Monte Carlo simulation number 300.\n",
      "Running Monte Carlo simulation number 310.\n",
      "Running Monte Carlo simulation number 320.\n",
      "Running Monte Carlo simulation number 330.\n",
      "Running Monte Carlo simulation number 340.\n",
      "Running Monte Carlo simulation number 350.\n",
      "Running Monte Carlo simulation number 360.\n",
      "Running Monte Carlo simulation number 370.\n",
      "Running Monte Carlo simulation number 380.\n",
      "Running Monte Carlo simulation number 390.\n",
      "Running Monte Carlo simulation number 400.\n",
      "Running Monte Carlo simulation number 410.\n",
      "Running Monte Carlo simulation number 420.\n",
      "Running Monte Carlo simulation number 430.\n",
      "Running Monte Carlo simulation number 440.\n",
      "Running Monte Carlo simulation number 450.\n",
      "Running Monte Carlo simulation number 460.\n",
      "Running Monte Carlo simulation number 470.\n",
      "Running Monte Carlo simulation number 480.\n",
      "Running Monte Carlo simulation number 490.\n"
     ]
    },
    {
     "data": {
      "text/html": [
       "<div>\n",
       "<style scoped>\n",
       "    .dataframe tbody tr th:only-of-type {\n",
       "        vertical-align: middle;\n",
       "    }\n",
       "\n",
       "    .dataframe tbody tr th {\n",
       "        vertical-align: top;\n",
       "    }\n",
       "\n",
       "    .dataframe thead th {\n",
       "        text-align: right;\n",
       "    }\n",
       "</style>\n",
       "<table border=\"1\" class=\"dataframe\">\n",
       "  <thead>\n",
       "    <tr style=\"text-align: right;\">\n",
       "      <th></th>\n",
       "      <th>0</th>\n",
       "      <th>1</th>\n",
       "      <th>2</th>\n",
       "      <th>3</th>\n",
       "      <th>4</th>\n",
       "      <th>5</th>\n",
       "      <th>6</th>\n",
       "      <th>7</th>\n",
       "      <th>8</th>\n",
       "      <th>9</th>\n",
       "      <th>...</th>\n",
       "      <th>490</th>\n",
       "      <th>491</th>\n",
       "      <th>492</th>\n",
       "      <th>493</th>\n",
       "      <th>494</th>\n",
       "      <th>495</th>\n",
       "      <th>496</th>\n",
       "      <th>497</th>\n",
       "      <th>498</th>\n",
       "      <th>499</th>\n",
       "    </tr>\n",
       "  </thead>\n",
       "  <tbody>\n",
       "    <tr>\n",
       "      <th>0</th>\n",
       "      <td>1.000000</td>\n",
       "      <td>1.000000</td>\n",
       "      <td>1.000000</td>\n",
       "      <td>1.000000</td>\n",
       "      <td>1.000000</td>\n",
       "      <td>1.000000</td>\n",
       "      <td>1.000000</td>\n",
       "      <td>1.000000</td>\n",
       "      <td>1.000000</td>\n",
       "      <td>1.000000</td>\n",
       "      <td>...</td>\n",
       "      <td>1.000000</td>\n",
       "      <td>1.000000</td>\n",
       "      <td>1.000000</td>\n",
       "      <td>1.000000</td>\n",
       "      <td>1.000000</td>\n",
       "      <td>1.000000</td>\n",
       "      <td>1.000000</td>\n",
       "      <td>1.000000</td>\n",
       "      <td>1.000000</td>\n",
       "      <td>1.000000</td>\n",
       "    </tr>\n",
       "    <tr>\n",
       "      <th>1</th>\n",
       "      <td>1.021294</td>\n",
       "      <td>1.007823</td>\n",
       "      <td>0.985521</td>\n",
       "      <td>0.987850</td>\n",
       "      <td>0.988115</td>\n",
       "      <td>1.005613</td>\n",
       "      <td>0.996513</td>\n",
       "      <td>0.990021</td>\n",
       "      <td>0.999460</td>\n",
       "      <td>1.003582</td>\n",
       "      <td>...</td>\n",
       "      <td>1.008465</td>\n",
       "      <td>1.006274</td>\n",
       "      <td>0.998290</td>\n",
       "      <td>0.994677</td>\n",
       "      <td>0.999182</td>\n",
       "      <td>1.018202</td>\n",
       "      <td>1.000180</td>\n",
       "      <td>1.039539</td>\n",
       "      <td>1.001005</td>\n",
       "      <td>1.010013</td>\n",
       "    </tr>\n",
       "    <tr>\n",
       "      <th>2</th>\n",
       "      <td>1.026802</td>\n",
       "      <td>0.987178</td>\n",
       "      <td>0.984875</td>\n",
       "      <td>0.981367</td>\n",
       "      <td>0.996116</td>\n",
       "      <td>1.011439</td>\n",
       "      <td>1.003112</td>\n",
       "      <td>0.994252</td>\n",
       "      <td>1.023530</td>\n",
       "      <td>1.013769</td>\n",
       "      <td>...</td>\n",
       "      <td>1.000642</td>\n",
       "      <td>0.997215</td>\n",
       "      <td>0.983471</td>\n",
       "      <td>0.996913</td>\n",
       "      <td>1.007059</td>\n",
       "      <td>1.021521</td>\n",
       "      <td>0.990562</td>\n",
       "      <td>1.042451</td>\n",
       "      <td>1.002919</td>\n",
       "      <td>1.039333</td>\n",
       "    </tr>\n",
       "    <tr>\n",
       "      <th>3</th>\n",
       "      <td>1.037354</td>\n",
       "      <td>1.000572</td>\n",
       "      <td>0.975025</td>\n",
       "      <td>0.975435</td>\n",
       "      <td>1.008559</td>\n",
       "      <td>0.995953</td>\n",
       "      <td>0.998626</td>\n",
       "      <td>0.990081</td>\n",
       "      <td>1.021625</td>\n",
       "      <td>1.023710</td>\n",
       "      <td>...</td>\n",
       "      <td>1.010472</td>\n",
       "      <td>0.980021</td>\n",
       "      <td>0.985846</td>\n",
       "      <td>1.000377</td>\n",
       "      <td>0.996383</td>\n",
       "      <td>1.041362</td>\n",
       "      <td>0.987914</td>\n",
       "      <td>1.058253</td>\n",
       "      <td>1.006301</td>\n",
       "      <td>1.060570</td>\n",
       "    </tr>\n",
       "    <tr>\n",
       "      <th>4</th>\n",
       "      <td>0.993537</td>\n",
       "      <td>0.975663</td>\n",
       "      <td>0.977061</td>\n",
       "      <td>0.975147</td>\n",
       "      <td>1.000914</td>\n",
       "      <td>0.988114</td>\n",
       "      <td>1.002257</td>\n",
       "      <td>0.990405</td>\n",
       "      <td>1.010459</td>\n",
       "      <td>1.030595</td>\n",
       "      <td>...</td>\n",
       "      <td>1.019293</td>\n",
       "      <td>0.969292</td>\n",
       "      <td>0.982409</td>\n",
       "      <td>1.005423</td>\n",
       "      <td>1.010872</td>\n",
       "      <td>1.032157</td>\n",
       "      <td>0.993248</td>\n",
       "      <td>1.056508</td>\n",
       "      <td>1.010011</td>\n",
       "      <td>1.052980</td>\n",
       "    </tr>\n",
       "    <tr>\n",
       "      <th>...</th>\n",
       "      <td>...</td>\n",
       "      <td>...</td>\n",
       "      <td>...</td>\n",
       "      <td>...</td>\n",
       "      <td>...</td>\n",
       "      <td>...</td>\n",
       "      <td>...</td>\n",
       "      <td>...</td>\n",
       "      <td>...</td>\n",
       "      <td>...</td>\n",
       "      <td>...</td>\n",
       "      <td>...</td>\n",
       "      <td>...</td>\n",
       "      <td>...</td>\n",
       "      <td>...</td>\n",
       "      <td>...</td>\n",
       "      <td>...</td>\n",
       "      <td>...</td>\n",
       "      <td>...</td>\n",
       "      <td>...</td>\n",
       "      <td>...</td>\n",
       "    </tr>\n",
       "    <tr>\n",
       "      <th>2516</th>\n",
       "      <td>2.248050</td>\n",
       "      <td>5.253961</td>\n",
       "      <td>2.931588</td>\n",
       "      <td>5.371052</td>\n",
       "      <td>2.308822</td>\n",
       "      <td>4.494817</td>\n",
       "      <td>2.478942</td>\n",
       "      <td>4.758732</td>\n",
       "      <td>5.706493</td>\n",
       "      <td>1.838770</td>\n",
       "      <td>...</td>\n",
       "      <td>5.759643</td>\n",
       "      <td>1.592112</td>\n",
       "      <td>2.313138</td>\n",
       "      <td>2.901407</td>\n",
       "      <td>4.005946</td>\n",
       "      <td>2.828112</td>\n",
       "      <td>5.755983</td>\n",
       "      <td>2.575703</td>\n",
       "      <td>3.904534</td>\n",
       "      <td>5.285410</td>\n",
       "    </tr>\n",
       "    <tr>\n",
       "      <th>2517</th>\n",
       "      <td>2.226299</td>\n",
       "      <td>5.283369</td>\n",
       "      <td>2.969030</td>\n",
       "      <td>5.316123</td>\n",
       "      <td>2.331671</td>\n",
       "      <td>4.503165</td>\n",
       "      <td>2.509206</td>\n",
       "      <td>4.743384</td>\n",
       "      <td>5.685550</td>\n",
       "      <td>1.827713</td>\n",
       "      <td>...</td>\n",
       "      <td>5.753252</td>\n",
       "      <td>1.607844</td>\n",
       "      <td>2.272561</td>\n",
       "      <td>2.923527</td>\n",
       "      <td>3.981867</td>\n",
       "      <td>2.806890</td>\n",
       "      <td>5.785073</td>\n",
       "      <td>2.581766</td>\n",
       "      <td>3.954895</td>\n",
       "      <td>5.283573</td>\n",
       "    </tr>\n",
       "    <tr>\n",
       "      <th>2518</th>\n",
       "      <td>2.172544</td>\n",
       "      <td>5.367886</td>\n",
       "      <td>2.991089</td>\n",
       "      <td>5.247498</td>\n",
       "      <td>2.343459</td>\n",
       "      <td>4.531449</td>\n",
       "      <td>2.495758</td>\n",
       "      <td>4.655375</td>\n",
       "      <td>5.754339</td>\n",
       "      <td>1.829171</td>\n",
       "      <td>...</td>\n",
       "      <td>5.571075</td>\n",
       "      <td>1.612331</td>\n",
       "      <td>2.296433</td>\n",
       "      <td>2.939121</td>\n",
       "      <td>3.944148</td>\n",
       "      <td>2.788712</td>\n",
       "      <td>5.703230</td>\n",
       "      <td>2.571964</td>\n",
       "      <td>3.936585</td>\n",
       "      <td>5.312475</td>\n",
       "    </tr>\n",
       "    <tr>\n",
       "      <th>2519</th>\n",
       "      <td>2.155496</td>\n",
       "      <td>5.455374</td>\n",
       "      <td>3.007132</td>\n",
       "      <td>5.228219</td>\n",
       "      <td>2.364462</td>\n",
       "      <td>4.505766</td>\n",
       "      <td>2.478597</td>\n",
       "      <td>4.694360</td>\n",
       "      <td>5.776595</td>\n",
       "      <td>1.813661</td>\n",
       "      <td>...</td>\n",
       "      <td>5.571737</td>\n",
       "      <td>1.599388</td>\n",
       "      <td>2.298268</td>\n",
       "      <td>2.945947</td>\n",
       "      <td>3.950632</td>\n",
       "      <td>2.763657</td>\n",
       "      <td>5.667341</td>\n",
       "      <td>2.576599</td>\n",
       "      <td>3.880462</td>\n",
       "      <td>5.445727</td>\n",
       "    </tr>\n",
       "    <tr>\n",
       "      <th>2520</th>\n",
       "      <td>2.146475</td>\n",
       "      <td>5.456027</td>\n",
       "      <td>3.032909</td>\n",
       "      <td>5.397299</td>\n",
       "      <td>2.378910</td>\n",
       "      <td>4.507605</td>\n",
       "      <td>2.477691</td>\n",
       "      <td>4.675018</td>\n",
       "      <td>5.724074</td>\n",
       "      <td>1.795341</td>\n",
       "      <td>...</td>\n",
       "      <td>5.551736</td>\n",
       "      <td>1.620638</td>\n",
       "      <td>2.294426</td>\n",
       "      <td>2.940741</td>\n",
       "      <td>3.959175</td>\n",
       "      <td>2.789203</td>\n",
       "      <td>5.661349</td>\n",
       "      <td>2.589418</td>\n",
       "      <td>3.824200</td>\n",
       "      <td>5.437945</td>\n",
       "    </tr>\n",
       "  </tbody>\n",
       "</table>\n",
       "<p>2521 rows × 500 columns</p>\n",
       "</div>"
      ],
      "text/plain": [
       "           0         1         2         3         4         5         6    \\\n",
       "0     1.000000  1.000000  1.000000  1.000000  1.000000  1.000000  1.000000   \n",
       "1     1.021294  1.007823  0.985521  0.987850  0.988115  1.005613  0.996513   \n",
       "2     1.026802  0.987178  0.984875  0.981367  0.996116  1.011439  1.003112   \n",
       "3     1.037354  1.000572  0.975025  0.975435  1.008559  0.995953  0.998626   \n",
       "4     0.993537  0.975663  0.977061  0.975147  1.000914  0.988114  1.002257   \n",
       "...        ...       ...       ...       ...       ...       ...       ...   \n",
       "2516  2.248050  5.253961  2.931588  5.371052  2.308822  4.494817  2.478942   \n",
       "2517  2.226299  5.283369  2.969030  5.316123  2.331671  4.503165  2.509206   \n",
       "2518  2.172544  5.367886  2.991089  5.247498  2.343459  4.531449  2.495758   \n",
       "2519  2.155496  5.455374  3.007132  5.228219  2.364462  4.505766  2.478597   \n",
       "2520  2.146475  5.456027  3.032909  5.397299  2.378910  4.507605  2.477691   \n",
       "\n",
       "           7         8         9    ...       490       491       492  \\\n",
       "0     1.000000  1.000000  1.000000  ...  1.000000  1.000000  1.000000   \n",
       "1     0.990021  0.999460  1.003582  ...  1.008465  1.006274  0.998290   \n",
       "2     0.994252  1.023530  1.013769  ...  1.000642  0.997215  0.983471   \n",
       "3     0.990081  1.021625  1.023710  ...  1.010472  0.980021  0.985846   \n",
       "4     0.990405  1.010459  1.030595  ...  1.019293  0.969292  0.982409   \n",
       "...        ...       ...       ...  ...       ...       ...       ...   \n",
       "2516  4.758732  5.706493  1.838770  ...  5.759643  1.592112  2.313138   \n",
       "2517  4.743384  5.685550  1.827713  ...  5.753252  1.607844  2.272561   \n",
       "2518  4.655375  5.754339  1.829171  ...  5.571075  1.612331  2.296433   \n",
       "2519  4.694360  5.776595  1.813661  ...  5.571737  1.599388  2.298268   \n",
       "2520  4.675018  5.724074  1.795341  ...  5.551736  1.620638  2.294426   \n",
       "\n",
       "           493       494       495       496       497       498       499  \n",
       "0     1.000000  1.000000  1.000000  1.000000  1.000000  1.000000  1.000000  \n",
       "1     0.994677  0.999182  1.018202  1.000180  1.039539  1.001005  1.010013  \n",
       "2     0.996913  1.007059  1.021521  0.990562  1.042451  1.002919  1.039333  \n",
       "3     1.000377  0.996383  1.041362  0.987914  1.058253  1.006301  1.060570  \n",
       "4     1.005423  1.010872  1.032157  0.993248  1.056508  1.010011  1.052980  \n",
       "...        ...       ...       ...       ...       ...       ...       ...  \n",
       "2516  2.901407  4.005946  2.828112  5.755983  2.575703  3.904534  5.285410  \n",
       "2517  2.923527  3.981867  2.806890  5.785073  2.581766  3.954895  5.283573  \n",
       "2518  2.939121  3.944148  2.788712  5.703230  2.571964  3.936585  5.312475  \n",
       "2519  2.945947  3.950632  2.763657  5.667341  2.576599  3.880462  5.445727  \n",
       "2520  2.940741  3.959175  2.789203  5.661349  2.589418  3.824200  5.437945  \n",
       "\n",
       "[2521 rows x 500 columns]"
      ]
     },
     "execution_count": 132,
     "metadata": {},
     "output_type": "execute_result"
    }
   ],
   "source": [
    "# Run the Monte Carlo simulation to forecast 10 years cumulative returns\n",
    "MC_instance_10yrs.calc_cumulative_return()\n"
   ]
  },
  {
   "cell_type": "code",
   "execution_count": 133,
   "metadata": {},
   "outputs": [
    {
     "data": {
      "text/plain": [
       "<AxesSubplot:title={'center':'500 Simulations of Cumulative Portfolio Return Trajectories Over the Next 2520 Trading Days.'}>"
      ]
     },
     "execution_count": 133,
     "metadata": {},
     "output_type": "execute_result"
    },
    {
     "data": {
      "image/png": "[encoded data removed]",
      "text/plain": [
       "<Figure size 432x288 with 1 Axes>"
      ]
     },
     "metadata": {
      "needs_background": "light"
     },
     "output_type": "display_data"
    }
   ],
   "source": [
    "# Visualize the 10-year Monte Carlo simulation by creating an\n",
    "# overlay line plot\n",
    "MC_instance_10yrs.plot_simulation()\n"
   ]
  },
  {
   "cell_type": "code",
   "execution_count": 136,
   "metadata": {},
   "outputs": [
    {
     "data": {
      "text/plain": [
       "<AxesSubplot:title={'center':'Distribution of Final Cumuluative Returns Across All 500 Simulations'}, ylabel='Frequency'>"
      ]
     },
     "execution_count": 136,
     "metadata": {},
     "output_type": "execute_result"
    },
    {
     "data": {
      "image/png": "[encoded data removed]",
      "text/plain": [
       "<Figure size 432x288 with 1 Axes>"
      ]
     },
     "metadata": {
      "needs_background": "light"
     },
     "output_type": "display_data"
    }
   ],
   "source": [
    "# Visualize the probability distribution of the 10-year Monte Carlo simulation \n",
    "# by plotting a histogram\n",
    "MC_instance_10yrs.plot_distribution()\n"
   ]
  },
  {
   "cell_type": "code",
   "execution_count": 137,
   "metadata": {},
   "outputs": [
    {
     "data": {
      "text/plain": [
       "count           500.000000\n",
       "mean              3.696012\n",
       "std               2.012703\n",
       "min               0.590649\n",
       "25%               2.350523\n",
       "50%               3.256951\n",
       "75%               4.589861\n",
       "max              15.193577\n",
       "95% CI Lower      1.160103\n",
       "95% CI Upper      9.257247\n",
       "Name: 2520, dtype: float64"
      ]
     },
     "execution_count": 137,
     "metadata": {},
     "output_type": "execute_result"
    }
   ],
   "source": [
    "# Generate summary statistics from the 10-year Monte Carlo simulation results\n",
    "# Save the results as a variable\n",
    "MC_stat_10yrs = MC_instance_10yrs.summarize_cumulative_return()\n",
    "\n",
    "\n",
    "# Review the 10-year Monte Carlo summary statistics\n",
    "MC_stat_10yrs"
   ]
  },
  {
   "cell_type": "markdown",
   "metadata": {},
   "source": [
    "### Answer the following questions:"
   ]
  },
  {
   "cell_type": "markdown",
   "metadata": {},
   "source": [
    "#### Question: Using the current value of only the stock and bond portion of the member's portfolio and the summary statistics that you generated from the new Monte Carlo simulation, what are the lower and upper bounds for the expected value of the portfolio (with the new weights) with a 95% confidence interval?"
   ]
  },
  {
   "cell_type": "code",
   "execution_count": 138,
   "metadata": {},
   "outputs": [
    {
     "name": "stdout",
     "output_type": "stream",
     "text": [
      "The current balance of stock and bond portion in the portfolio is $75055.90\n"
     ]
    }
   ],
   "source": [
    "# Print the current balance of the stock and bond portion of the members portfolio\n",
    "print(f'The current balance of stock and bond portion in the portfolio is ${total_stocks_bonds:.2f}')\n"
   ]
  },
  {
   "cell_type": "code",
   "execution_count": 140,
   "metadata": {},
   "outputs": [
    {
     "name": "stdout",
     "output_type": "stream",
     "text": [
      "There is a 95% chance that the current value of the stock and bond portion of the portfolio with a 80% weight in SPY and 20% weight in AGG over the next 10 years will end within the range of $87072.59 and $694810.99.\n"
     ]
    }
   ],
   "source": [
    "# Use the lower and upper `95%` confidence intervals to calculate the range of the possible outcomes for the current stock/bond portfolio\n",
    "ci_lower_ten_cumulative_return = total_stocks_bonds * MC_stat_10yrs['95% CI Lower']\n",
    "ci_upper_ten_cumulative_return = total_stocks_bonds * MC_stat_10yrs['95% CI Upper']\n",
    "\n",
    "# Print the result of your calculations\n",
    "print(f\"There is a 95% chance that the current value of the stock and bond portion of the portfolio\"\n",
    "      f\" with a 80% weight in SPY and 20% weight in AGG over the next 10 years will end within the range of\"\n",
    "      f\" ${ci_lower_ten_cumulative_return:.2f} and ${ci_upper_ten_cumulative_return:.2f}.\")"
   ]
  },
  {
   "cell_type": "markdown",
   "metadata": {},
   "source": [
    "#### Question: Will weighting the portfolio more heavily to stocks allow the credit union members to retire after only 10 years?"
   ]
  },
  {
   "cell_type": "markdown",
   "metadata": {},
   "source": [
    "#### Answer: It's difficult to say. More balanced weight distribution with 30 years give much more sigmificant returns over time versus more heavily weighted to stocks portfolio which can make only about 16% after 10 years. The current value of stock and bond portion already allows to retire. Based on analysis I would recommend 60/40 distribution, but it would also great to run the simulation with 60/40 distribution and 10 years to take a look at 95% intervals for this setup and make a right decision.  "
   ]
  },
  {
   "cell_type": "code",
   "execution_count": 141,
   "metadata": {},
   "outputs": [
    {
     "data": {
      "text/plain": [
       "\u001b[1;31mInit signature:\u001b[0m\n",
       "\u001b[0mMCSimulation\u001b[0m\u001b[1;33m(\u001b[0m\u001b[1;33m\n",
       "\u001b[0m    \u001b[0mportfolio_data\u001b[0m\u001b[1;33m,\u001b[0m\u001b[1;33m\n",
       "\u001b[0m    \u001b[0mweights\u001b[0m\u001b[1;33m=\u001b[0m\u001b[1;34m''\u001b[0m\u001b[1;33m,\u001b[0m\u001b[1;33m\n",
       "\u001b[0m    \u001b[0mnum_simulation\u001b[0m\u001b[1;33m=\u001b[0m\u001b[1;36m1000\u001b[0m\u001b[1;33m,\u001b[0m\u001b[1;33m\n",
       "\u001b[0m    \u001b[0mnum_trading_days\u001b[0m\u001b[1;33m=\u001b[0m\u001b[1;36m252\u001b[0m\u001b[1;33m,\u001b[0m\u001b[1;33m\n",
       "\u001b[0m\u001b[1;33m)\u001b[0m\u001b[1;33m\u001b[0m\u001b[1;33m\u001b[0m\u001b[0m\n",
       "\u001b[1;31mDocstring:\u001b[0m     \n",
       "A Python class for runnning Monte Carlo simulation on portfolio price data. \n",
       "\n",
       "...\n",
       "\n",
       "Attributes\n",
       "----------\n",
       "portfolio_data : pandas.DataFrame\n",
       "    portfolio dataframe\n",
       "weights: list(float)\n",
       "    portfolio investment breakdown\n",
       "nSim: int\n",
       "    number of samples in simulation\n",
       "nTrading: int\n",
       "    number of trading days to simulate\n",
       "simulated_return : pandas.DataFrame\n",
       "    Simulated data from Monte Carlo\n",
       "confidence_interval : pandas.Series\n",
       "    the 95% confidence intervals for simulated final cumulative returns\n",
       "    \n",
       "\u001b[1;31mInit docstring:\u001b[0m\n",
       "Constructs all the necessary attributes for the MCSimulation object.\n",
       "\n",
       "Parameters\n",
       "----------\n",
       "portfolio_data: pandas.DataFrame\n",
       "    DataFrame containing stock price information from Alpaca API\n",
       "weights: list(float)\n",
       "    A list fractions representing percentage of total investment per stock. DEFAULT: Equal distribution\n",
       "num_simulation: int\n",
       "    Number of simulation samples. DEFAULT: 1000 simulation samples\n",
       "num_trading_days: int\n",
       "    Number of trading days to simulate. DEFAULT: 252 days (1 year of business days)\n",
       "\u001b[1;31mFile:\u001b[0m           c:\\users\\uskir\\fintech bootcamp\\challenges\\module 5 challenge - fin planning tools\\mcforecasttools.py\n",
       "\u001b[1;31mType:\u001b[0m           type\n",
       "\u001b[1;31mSubclasses:\u001b[0m     \n"
      ]
     },
     "metadata": {},
     "output_type": "display_data"
    }
   ],
   "source": [
    "?MCSimulation"
   ]
  },
  {
   "cell_type": "code",
   "execution_count": null,
   "metadata": {},
   "outputs": [],
   "source": []
  }
 ],
 "metadata": {
  "kernelspec": {
   "display_name": "dev",
   "language": "python",
   "name": "dev"
  },
  "language_info": {
   "codemirror_mode": {
    "name": "ipython",
    "version": 3
   },
   "file_extension": ".py",
   "mimetype": "text/x-python",
   "name": "python",
   "nbconvert_exporter": "python",
   "pygments_lexer": "ipython3",
   "version": "3.8.12"
  }
 },
 "nbformat": 4,
 "nbformat_minor": 4
}
